{
 "cells": [
  {
   "cell_type": "code",
   "execution_count": 1,
   "id": "86e32ad9",
   "metadata": {
    "ExecuteTime": {
     "end_time": "2023-03-29T16:40:29.437194Z",
     "start_time": "2023-03-29T16:40:27.823438Z"
    }
   },
   "outputs": [],
   "source": [
    "import matplotlib.pyplot as plt\n",
    "import math\n",
    "import random\n",
    "import numpy as np"
   ]
  },
  {
   "cell_type": "markdown",
   "id": "db1b65cc",
   "metadata": {},
   "source": [
    "**Hints for students:** The utility section contains code you need to use *unchanged* to generate the test data required. You may use this code for your final solution, beware not to overwrite function definitions in this section. Otherwise you can ignore the code in this section."
   ]
  },
  {
   "cell_type": "markdown",
   "id": "6f364ca7",
   "metadata": {
    "heading_collapsed": true
   },
   "source": [
    "# Utilities"
   ]
  },
  {
   "cell_type": "markdown",
   "id": "0d618a29",
   "metadata": {
    "hidden": true
   },
   "source": [
    "**Note:** Section 1.1-1.4 is identical to the MST example (Week 3). 1.5-1.10 are adjustments of the data structures for the current problem. "
   ]
  },
  {
   "cell_type": "markdown",
   "id": "8027b3d2",
   "metadata": {
    "hidden": true
   },
   "source": [
    "## Points and Distances"
   ]
  },
  {
   "cell_type": "code",
   "execution_count": 2,
   "id": "fdee6ad8",
   "metadata": {
    "ExecuteTime": {
     "end_time": "2023-03-29T16:40:29.446378Z",
     "start_time": "2023-03-29T16:40:29.443377Z"
    },
    "hidden": true
   },
   "outputs": [],
   "source": [
    "def dist(p1, p2):\n",
    "    (x1, y1) = p1\n",
    "    (x2, y2) = p2\n",
    "    return int(math.sqrt((x1-x2)**2+(y1-y2)**2))"
   ]
  },
  {
   "cell_type": "markdown",
   "id": "097196aa",
   "metadata": {
    "hidden": true
   },
   "source": [
    "## Maps"
   ]
  },
  {
   "cell_type": "code",
   "execution_count": 3,
   "id": "8f660429",
   "metadata": {
    "ExecuteTime": {
     "end_time": "2023-03-29T16:40:29.557741Z",
     "start_time": "2023-03-29T16:40:29.554716Z"
    },
    "hidden": true
   },
   "outputs": [],
   "source": [
    "def plotMap(G, T=[], P=[], W=None,\n",
    "            style='r-o', lw=1, ms=3, \n",
    "            styleT='go', msT=5,\n",
    "            styleP='b-o', lwP=3, msP=1,\n",
    "            stylePT='go', msPT=7,\n",
    "            styleW='bo', msW=7,\n",
    "            text=None, grid=False):\n",
    "    fig = plt.gcf()\n",
    "    fig.set_size_inches(6, 6)\n",
    "    V, E = G\n",
    "\n",
    "    if not grid:\n",
    "        plt.axis('off')\n",
    "    plt.plot( [ p[0] for p in V ], [ p[1] for p in V ], 'ro', lw=lw, ms=ms)\n",
    "    for (p, q) in E:\n",
    "        plt.plot( [ p[0], q[0] ], [ p[1], q[1] ], 'r-o', lw=lw, ms=ms)\n",
    "    for t in T:\n",
    "        plt.plot( [ t[0] ], [ t[1] ], \n",
    "                  styleT, ms=msT)\n",
    "    plt.plot( [ p[0] for p in P ],\n",
    "              [ p[1] for p in P ], \n",
    "              styleP, lw=lwP, ms=msP)\n",
    "    for p in P:\n",
    "        if p in T:\n",
    "            plt.plot( [ p[0] ], [ p[1] ], \n",
    "                      stylePT, ms=msPT)\n",
    "    if W is not None:\n",
    "        plt.plot( [ W[0] ], [ W[1] ], \n",
    "                      styleW, ms=msW)\n",
    "    if text is not None:\n",
    "        maxX = max([p[0] for p in V])\n",
    "        plt.text(0.8*maxX, 0, text)\n",
    "    if grid:\n",
    "        plt.grid()\n",
    "    plt.show()"
   ]
  },
  {
   "cell_type": "markdown",
   "id": "85252f79-912e-4d27-9a2d-4290143a3a50",
   "metadata": {},
   "source": [
    "## Add Targets"
   ]
  },
  {
   "cell_type": "code",
   "execution_count": 4,
   "id": "bacc9b23-3738-4892-8d7e-74505584f903",
   "metadata": {},
   "outputs": [],
   "source": [
    "def addTargets(M, T):\n",
    "    V, E = M\n",
    "    E = E.copy()\n",
    "    V = V.copy()\n",
    "    for t in T:\n",
    "        minD = math.inf\n",
    "        minE = None\n",
    "        for e in E:\n",
    "            P, Q = e\n",
    "            distT = dist(P, t)+dist(t, Q)-dist(P, Q)\n",
    "            if distT < minD:\n",
    "                minD = distT\n",
    "                minE = e\n",
    "        P, Q = minE\n",
    "        E.remove( (P, Q) )\n",
    "        E.append( (P, t) )\n",
    "        E.append( (t, Q) )\n",
    "        V.append(t)\n",
    "    return V, E"
   ]
  },
  {
   "cell_type": "markdown",
   "id": "a8c2eabd-103d-4755-9d8a-424c4ebfd0f7",
   "metadata": {},
   "source": [
    "## Generate Warehouse Locations"
   ]
  },
  {
   "cell_type": "code",
   "execution_count": 5,
   "id": "1c8bfb94-7992-44bd-8d03-41c751103003",
   "metadata": {},
   "outputs": [],
   "source": [
    "def generateWarehouseLocation(M):\n",
    "    V, _ = M\n",
    "    W = random.sample(V, k=1)[0]\n",
    "    return W"
   ]
  },
  {
   "cell_type": "markdown",
   "id": "598c0540",
   "metadata": {},
   "source": [
    "# Loading Sample Data"
   ]
  },
  {
   "cell_type": "code",
   "execution_count": 6,
   "id": "1505220e",
   "metadata": {
    "ExecuteTime": {
     "end_time": "2023-03-29T16:40:29.753938Z",
     "start_time": "2023-03-29T16:40:29.751011Z"
    }
   },
   "outputs": [],
   "source": [
    "import pickle\n",
    "with open('data.pickled', 'rb') as f:\n",
    "    M, C = pickle.load(f)"
   ]
  },
  {
   "cell_type": "markdown",
   "id": "4b3d6163-b5ee-4f7e-9d4b-583156d19744",
   "metadata": {},
   "source": [
    "Split the map into Vertices and Edges:"
   ]
  },
  {
   "cell_type": "code",
   "execution_count": 7,
   "id": "9ff18f63-b6ad-47d1-a499-8c584ae4f6d7",
   "metadata": {},
   "outputs": [],
   "source": [
    "V, E = M"
   ]
  },
  {
   "cell_type": "markdown",
   "id": "3f334336-7a1f-4de4-a260-1ae05225a46f",
   "metadata": {},
   "source": [
    "Pick a random location for the Warehouse at one of the intersections (vertices) on the map."
   ]
  },
  {
   "cell_type": "code",
   "execution_count": 8,
   "id": "0a97ff1b-4c8a-4a23-8169-3f7ddf77537a",
   "metadata": {},
   "outputs": [],
   "source": [
    "W = generateWarehouseLocation(M)"
   ]
  },
  {
   "cell_type": "code",
   "execution_count": 9,
   "id": "3d67a220-1788-4635-b4f6-83e7c2013d24",
   "metadata": {},
   "outputs": [
    {
     "data": {
      "image/png": "[encoded data removed]",
      "text/plain": [
       "<Figure size 600x600 with 1 Axes>"
      ]
     },
     "metadata": {},
     "output_type": "display_data"
    }
   ],
   "source": [
    "plotMap(M, T=C, P=[], W=W, text=\"seed=9999\")"
   ]
  },
  {
   "cell_type": "markdown",
   "id": "6b2a11e0-7490-4b55-ab6d-3af11e1e6ffd",
   "metadata": {},
   "source": [
    "# Generating Delivery Data"
   ]
  },
  {
   "cell_type": "code",
   "execution_count": 10,
   "id": "303b62a1-bb30-428c-bdcb-12d2ba0a470d",
   "metadata": {},
   "outputs": [],
   "source": [
    "def generateDeliveryData(p, C, days, seed=0):\n",
    "    ## p is the average number of parcels per day per customer\n",
    "    ## C is the number of customers to be served\n",
    "    ## days is the number of days for which data are to be generated.\n",
    "    np.random.seed(seed)\n",
    "    R = np.random.poisson(lam=C*p, size=days)\n",
    "    D = [ sorted(list(np.random.choice(range(C), size=i))) for i in R ]\n",
    "    return D"
   ]
  },
  {
   "cell_type": "markdown",
   "id": "fac5621b-5114-43b4-abcc-ce1ab2d8ad08",
   "metadata": {},
   "source": [
    "## Demo Example"
   ]
  },
  {
   "cell_type": "code",
   "execution_count": 11,
   "id": "90819ebe-36a7-45a4-8f0d-ba1135ccf512",
   "metadata": {},
   "outputs": [
    {
     "data": {
      "text/plain": [
       "[[0, 3, 3], [0, 5], [1, 2, 3, 3, 8], [3], []]"
      ]
     },
     "execution_count": 11,
     "metadata": {},
     "output_type": "execute_result"
    }
   ],
   "source": [
    "D = generateDeliveryData(0.2, 10, 5)\n",
    "D"
   ]
  },
  {
   "cell_type": "code",
   "execution_count": 12,
   "id": "f19e47aa-3656-4c45-9785-4b814b9f65e7",
   "metadata": {},
   "outputs": [
    {
     "data": {
      "text/plain": [
       "11"
      ]
     },
     "execution_count": 12,
     "metadata": {},
     "output_type": "execute_result"
    }
   ],
   "source": [
    "sum([len(i) for i in D])"
   ]
  },
  {
   "cell_type": "markdown",
   "id": "59938486",
   "metadata": {},
   "source": [
    "Over 5 days, a total of 11 parcels are to be delivered:\n",
    "\n",
    "- On the first day deliver one parcel to customers 0 and two parcels to customer 3. \n",
    "- On the second day deliver one parcel each to customer 0 and 5.\n",
    "- On the third day deliver one parcel each to customers 1, 2 and 8, and two parcels to customer 3.\n",
    "- On the fourth day deliver one parcel to customer 3.\n",
    "- And on the fiths day there are no parcels to delier."
   ]
  },
  {
   "cell_type": "markdown",
   "id": "dca1d7cf-3b98-4f36-bdcf-c5cbce31cfa6",
   "metadata": {},
   "source": [
    "# Delivery over one month for Sample Map"
   ]
  },
  {
   "cell_type": "code",
   "execution_count": 13,
   "id": "f65f6231-a043-440a-8034-073eaa14a42e",
   "metadata": {
    "scrolled": true
   },
   "outputs": [],
   "source": [
    "D = generateDeliveryData(0.23, len(C), 30)"
   ]
  },
  {
   "cell_type": "code",
   "execution_count": 14,
   "id": "d53afbb6-3934-4224-8282-2cd3df274ff4",
   "metadata": {},
   "outputs": [
    {
     "data": {
      "text/plain": [
       "1047"
      ]
     },
     "execution_count": 14,
     "metadata": {},
     "output_type": "execute_result"
    }
   ],
   "source": [
    "sum([len(i) for i in D])"
   ]
  }
 ],
 "metadata": {
  "kernelspec": {
   "display_name": "Python 3 (ipykernel)",
   "language": "python",
   "name": "python3"
  },
  "language_info": {
   "codemirror_mode": {
    "name": "ipython",
    "version": 3
   },
   "file_extension": ".py",
   "mimetype": "text/x-python",
   "name": "python",
   "nbconvert_exporter": "python",
   "pygments_lexer": "ipython3",
   "version": "3.11.6"
  },
  "toc": {
   "base_numbering": 1,
   "nav_menu": {
    "height": "437px",
    "width": "249px"
   },
   "number_sections": true,
   "sideBar": true,
   "skip_h1_title": false,
   "title_cell": "Table of Contents",
   "title_sidebar": "Contents",
   "toc_cell": true,
   "toc_position": {},
   "toc_section_display": true,
   "toc_window_display": false
  }
 },
 "nbformat": 4,
 "nbformat_minor": 5
}
