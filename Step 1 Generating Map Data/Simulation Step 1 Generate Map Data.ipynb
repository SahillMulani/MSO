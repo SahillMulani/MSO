{
 "cells": [
  {
   "cell_type": "code",
   "execution_count": 19,
   "id": "86e32ad9",
   "metadata": {
    "ExecuteTime": {
     "end_time": "2023-07-04T11:55:30.164805Z",
     "start_time": "2023-07-04T11:55:29.174321Z"
    }
   },
   "outputs": [],
   "source": [
    "import matplotlib.pyplot as plt\n",
    "import math\n",
    "import random\n",
    "import numpy as np"
   ]
  },
  {
   "cell_type": "markdown",
   "id": "6f364ca7",
   "metadata": {
    "heading_collapsed": true
   },
   "source": [
    "# Utilities"
   ]
  },
  {
   "cell_type": "markdown",
   "id": "8027b3d2",
   "metadata": {
    "hidden": true
   },
   "source": [
    "## Points and Distances"
   ]
  },
  {
   "cell_type": "markdown",
   "id": "0827b248-8d3c-4b51-ae7b-9bf7270048d8",
   "metadata": {},
   "source": [
    "Euclidean Distance between two points"
   ]
  },
  {
   "cell_type": "code",
   "execution_count": 20,
   "id": "fdee6ad8",
   "metadata": {
    "ExecuteTime": {
     "end_time": "2023-07-04T11:55:30.171917Z",
     "start_time": "2023-07-04T11:55:30.169259Z"
    },
    "hidden": true
   },
   "outputs": [],
   "source": [
    "def dist(p1, p2):\n",
    "    (x1, y1) = p1\n",
    "    (x2, y2) = p2\n",
    "    return int(math.sqrt((x1-x2)**2+(y1-y2)**2))"
   ]
  },
  {
   "cell_type": "markdown",
   "id": "d4773bc7-c22e-45a3-8c2a-ce5c300980d4",
   "metadata": {},
   "source": [
    "The nearest link between two point sets"
   ]
  },
  {
   "cell_type": "code",
   "execution_count": 21,
   "id": "d68f6f97",
   "metadata": {
    "ExecuteTime": {
     "end_time": "2023-07-04T11:55:30.176728Z",
     "start_time": "2023-07-04T11:55:30.173920Z"
    },
    "hidden": true
   },
   "outputs": [],
   "source": [
    "def nearest(X, P):\n",
    "    minD = math.inf\n",
    "    minP = None\n",
    "    for p in P:\n",
    "        for x in X:\n",
    "            d=dist(x, p)\n",
    "            if d<minD:\n",
    "                minX, minP, minD = x, p, d\n",
    "    return minX, minP         "
   ]
  },
  {
   "cell_type": "markdown",
   "id": "3115ac70-a576-4da3-8c38-47cfcf46b466",
   "metadata": {},
   "source": [
    "## Graphs"
   ]
  },
  {
   "cell_type": "code",
   "execution_count": 22,
   "id": "0c8ee7e2",
   "metadata": {
    "ExecuteTime": {
     "end_time": "2023-07-04T11:55:30.181765Z",
     "start_time": "2023-07-04T11:55:30.177866Z"
    },
    "hidden": true
   },
   "outputs": [],
   "source": [
    "def generateRandomGraph(n, x0, y0, r):\n",
    "\n",
    "    def rounding(x):\n",
    "        return int(math.floor(x/10))*10\n",
    "\n",
    "    x0 = rounding(x0)\n",
    "    y0 = rounding(y0)\n",
    "    gridsize = rounding(r / math.sqrt(n) * 1.4)\n",
    "    r = int(math.floor(r/gridsize))*gridsize\n",
    "    split = int(2*r/gridsize)+1\n",
    "    X = np.linspace(x0-r, x0+r, split)\n",
    "    Y = np.linspace(y0-r, y0+r, split)\n",
    "    P = [ (int(x), int(y)) for x in X for y in Y if dist((x,y), (x0,y0)) < r ]\n",
    "    P = random.sample(P, k=n)\n",
    "    \n",
    "    E = []\n",
    "    \n",
    "    def addEdge(p, q):\n",
    "        if p in P and q in P and (p, q) not in E and (q, p) not in E:\n",
    "            E.append((p, q))\n",
    "    def addDiagonalEdge(p, q):\n",
    "        (xp, yp) = p\n",
    "        (xq, yq) = q\n",
    "        if p in P and q in P and (xp, yq) not in P and (xq, yp) not in P and (p, q) not in E and (q, p) not in E:\n",
    "            E.append((p, q))\n",
    "            \n",
    "    for (x, y) in P:\n",
    "        addEdge( (x, y), (x, y+gridsize) )\n",
    "        addEdge( (x, y), (x, y-gridsize) )\n",
    "        addEdge( (x, y), (x+gridsize, y) )\n",
    "        addEdge( (x, y), (x-gridsize, y) )\n",
    "        addDiagonalEdge( (x, y), (x+gridsize, y+gridsize) )\n",
    "        addDiagonalEdge( (x, y), (x+gridsize, y-gridsize) )\n",
    "        addDiagonalEdge( (x, y), (x-gridsize, y+gridsize) )\n",
    "        addDiagonalEdge( (x, y), (x-gridsize, y-gridsize) )\n",
    "        \n",
    "    return sorted(P), sorted(E)"
   ]
  },
  {
   "cell_type": "code",
   "execution_count": 23,
   "id": "a906e898-58d1-4e7e-89a6-cb3f05ab7969",
   "metadata": {},
   "outputs": [],
   "source": [
    "def plotGraph(P, E, col='b', grid=False):\n",
    "    fig = plt.gcf()\n",
    "    fig.set_size_inches(6, 6)\n",
    "    if not grid:\n",
    "        plt.axis('off')\n",
    "    plt.plot( [ p[0] for p in P ], [ p[1] for p in P ], col+'o', lw=1, ms=3)\n",
    "    for (p, q) in E:\n",
    "        plt.plot( [ p[0], q[0] ], [ p[1], q[1] ], col+'-o', lw=1, ms=3)\n",
    "    if grid:\n",
    "        plt.grid()"
   ]
  },
  {
   "cell_type": "markdown",
   "id": "d39924e8-71a1-4fb0-aaee-10d17bf89adf",
   "metadata": {},
   "source": [
    "The random generation may result in a graph consisting of multiple not connected subgraphs.\n",
    "Split a graph into not connected subgraphs, if any."
   ]
  },
  {
   "cell_type": "code",
   "execution_count": 24,
   "id": "9c572cfc-ecd8-4f5f-a236-b8aab63c3f56",
   "metadata": {},
   "outputs": [],
   "source": [
    "def subgraph(P, E):\n",
    "    P = P.copy()\n",
    "    E = E.copy()\n",
    "    PP = [ P[0] ] \n",
    "    EE = []\n",
    "    P = P[1:]\n",
    "    extended = True\n",
    "    while extended:\n",
    "        extended = False\n",
    "        for (a, b) in E:\n",
    "            if a in PP and b in P:\n",
    "                PP.append(b)\n",
    "                P.remove(b)\n",
    "                EE.append((a, b))\n",
    "                E.remove((a, b))\n",
    "                extended = True\n",
    "                break\n",
    "            if a in P and b in PP:\n",
    "                PP.append(a)\n",
    "                P.remove(a)\n",
    "                EE.append((a, b))\n",
    "                E.remove((a, b))\n",
    "                extended = True\n",
    "                break\n",
    "            if a in PP and b in PP:\n",
    "                EE.append((a, b))\n",
    "                E.remove((a, b))\n",
    "                extended = True\n",
    "                break\n",
    "    return PP, EE, P, E       "
   ]
  },
  {
   "cell_type": "code",
   "execution_count": 25,
   "id": "2ace15f0-b353-431c-b345-b1d53fee92b5",
   "metadata": {},
   "outputs": [],
   "source": [
    "def generateGraph(n, x0, y0, r):\n",
    "    P, E = generateRandomGraph(n, x0, y0, r)\n",
    "    P0, _, P1, _ = subgraph(P, E)\n",
    "    while len(P1)>0:\n",
    "        (p, q) = nearest(P0, P1)\n",
    "        E.append((p, q))\n",
    "        P0, _, P1, _ = subgraph(P, E)\n",
    "    return P, E"
   ]
  },
  {
   "cell_type": "markdown",
   "id": "853eb5e3",
   "metadata": {
    "hidden": true
   },
   "source": [
    "## Lists and Paths"
   ]
  },
  {
   "cell_type": "code",
   "execution_count": 26,
   "id": "ad4896a5",
   "metadata": {
    "ExecuteTime": {
     "end_time": "2023-07-04T11:55:30.278886Z",
     "start_time": "2023-07-04T11:55:30.276462Z"
    },
    "hidden": true
   },
   "outputs": [],
   "source": [
    "def pathLength(P):\n",
    "    return 0 if len(P)<=1 else \\\n",
    "            dist(P[0], P[1])+pathLength(P[1:])"
   ]
  },
  {
   "cell_type": "code",
   "execution_count": 27,
   "id": "77c6090b",
   "metadata": {
    "ExecuteTime": {
     "end_time": "2023-07-04T11:55:30.282666Z",
     "start_time": "2023-07-04T11:55:30.280335Z"
    },
    "hidden": true
   },
   "outputs": [],
   "source": [
    "def reverse(P):\n",
    "    return [ P[-i] for i in range(1,len(P)+1) ]"
   ]
  },
  {
   "cell_type": "code",
   "execution_count": 28,
   "id": "340c2745",
   "metadata": {
    "ExecuteTime": {
     "end_time": "2023-07-04T11:55:30.286330Z",
     "start_time": "2023-07-04T11:55:30.283948Z"
    },
    "hidden": true
   },
   "outputs": [],
   "source": [
    "def index(x, L):\n",
    "    for i in range(len(L)):\n",
    "        if x==L[i]: \n",
    "            return i\n",
    "    return None"
   ]
  },
  {
   "cell_type": "code",
   "execution_count": 29,
   "id": "cad61c30",
   "metadata": {
    "ExecuteTime": {
     "end_time": "2023-07-04T11:55:30.289827Z",
     "start_time": "2023-07-04T11:55:30.287641Z"
    },
    "hidden": true
   },
   "outputs": [],
   "source": [
    "def addWithoutDuplicates(L, X):\n",
    "    for i in range(len(X)):\n",
    "        if X[i] not in L:\n",
    "            L.append(X[i])\n",
    "    return L"
   ]
  },
  {
   "cell_type": "markdown",
   "id": "2e7ff6b1",
   "metadata": {
    "hidden": true
   },
   "source": [
    "## Generate Customer Locations"
   ]
  },
  {
   "cell_type": "code",
   "execution_count": 30,
   "id": "058a6093",
   "metadata": {
    "ExecuteTime": {
     "end_time": "2023-07-04T11:55:30.307975Z",
     "start_time": "2023-07-04T11:55:30.304505Z"
    },
    "hidden": true
   },
   "outputs": [],
   "source": [
    "def splitEdgeRandomly(V, E, s):\n",
    "    A, B = s\n",
    "    p = random.uniform(0.3,0.7)\n",
    "    x = int(A[0]+p*(B[0]-A[0]))\n",
    "    y = int(A[1]+p*(B[1]-A[1]))\n",
    "    t = (x,y)\n",
    "    E.remove(s) \n",
    "    E.append((A, t))\n",
    "    E.append((t, B))\n",
    "    V.append(t)\n",
    "    return (V, E), t"
   ]
  },
  {
   "cell_type": "code",
   "execution_count": 31,
   "id": "b2764b70",
   "metadata": {
    "ExecuteTime": {
     "end_time": "2023-07-04T11:55:30.312520Z",
     "start_time": "2023-07-04T11:55:30.309193Z"
    },
    "hidden": true
   },
   "outputs": [],
   "source": [
    "def generateRandomTargets(V, E, n=5):\n",
    "    V, E = V.copy(), E.copy()\n",
    "    T = []\n",
    "    # we want to ensure that the beginning of the \n",
    "    # sequence of points generated randomly stays\n",
    "    # the same\n",
    "    mindist = 300\n",
    "    while len(T)<n:\n",
    "        s = random.choice(E)\n",
    "        A, B = s\n",
    "        if dist(A,B)>mindist: # avoid targets placed narrowly\n",
    "            (V, E), t = splitEdgeRandomly(V, E, s)\n",
    "            T.append(t)\n",
    "    return sorted(T)"
   ]
  },
  {
   "cell_type": "code",
   "execution_count": 32,
   "id": "62e1f971-04ed-4cb9-b5f5-fd6c8c8e1ba6",
   "metadata": {},
   "outputs": [],
   "source": [
    "def addTargets(M, T):\n",
    "    V, E = M\n",
    "    E = E.copy()\n",
    "    V = V.copy()\n",
    "    for t in T:\n",
    "        minD = math.inf\n",
    "        minE = None\n",
    "        for e in E:\n",
    "            P, Q = e\n",
    "            distT = dist(P, t)+dist(t, Q)-dist(P, Q)\n",
    "            if distT < minD:\n",
    "                minD = distT\n",
    "                minE = e\n",
    "        P, Q = minE\n",
    "        E.remove( (P, Q) )\n",
    "        E.append( (P, t) )\n",
    "        E.append( (t, Q) )\n",
    "        V.append(t)\n",
    "    return V, E"
   ]
  },
  {
   "cell_type": "markdown",
   "id": "88070187-a40e-4f57-a69b-a88408b5593c",
   "metadata": {},
   "source": [
    "## Generate Warehouse Locations"
   ]
  },
  {
   "cell_type": "code",
   "execution_count": 33,
   "id": "2ac94a04-ecd7-47b7-a4c4-931642e60879",
   "metadata": {},
   "outputs": [],
   "source": [
    "def generateWarehouseLocation(M):\n",
    "    V, _ = M\n",
    "    W = random.sample(V, k=1)[0]\n",
    "    return W"
   ]
  },
  {
   "cell_type": "code",
   "execution_count": 34,
   "id": "e3194939-2cb4-4331-862e-cfaba9d45b98",
   "metadata": {},
   "outputs": [],
   "source": [
    "def generateWarehouseLocations(M, seed=None):\n",
    "    if seed is not None:\n",
    "        random.seed(seed)\n",
    "    V, _ = M\n",
    "    W = random.sample(V, k=len(V)//10)\n",
    "    return W"
   ]
  },
  {
   "cell_type": "markdown",
   "id": "268c5569",
   "metadata": {
    "hidden": true
   },
   "source": [
    "## Plot Map with Delivery Route"
   ]
  },
  {
   "cell_type": "code",
   "execution_count": 35,
   "id": "f2f4ff62",
   "metadata": {
    "ExecuteTime": {
     "end_time": "2023-07-04T11:55:30.319958Z",
     "start_time": "2023-07-04T11:55:30.314018Z"
    },
    "hidden": true
   },
   "outputs": [],
   "source": [
    "def plotMap(G, T=[], P=[], W=None,\n",
    "            style='r-o', lw=1, ms=3, \n",
    "            styleT='go', msT=5,\n",
    "            styleP='b-o', lwP=3, msP=1,\n",
    "            stylePT='go', msPT=7,\n",
    "            styleW='bo', msW=7,\n",
    "            text=None, grid=False):\n",
    "    fig = plt.gcf()\n",
    "    fig.set_size_inches(6, 6)\n",
    "    V, E = G\n",
    "\n",
    "    if not grid:\n",
    "        plt.axis('off')\n",
    "    plt.plot( [ p[0] for p in V ], [ p[1] for p in V ], 'ro', lw=lw, ms=ms)\n",
    "    for (p, q) in E:\n",
    "        plt.plot( [ p[0], q[0] ], [ p[1], q[1] ], 'r-o', lw=lw, ms=ms)\n",
    "    for t in T:\n",
    "        plt.plot( [ t[0] ], [ t[1] ], \n",
    "                  styleT, ms=msT)\n",
    "    plt.plot( [ p[0] for p in P ],\n",
    "              [ p[1] for p in P ], \n",
    "              styleP, lw=lwP, ms=msP)\n",
    "    for p in P:\n",
    "        if p in T:\n",
    "            plt.plot( [ p[0] ], [ p[1] ], \n",
    "                      stylePT, ms=msPT)\n",
    "    if W is not None:\n",
    "        plt.plot( [ W[0] ], [ W[1] ], \n",
    "                      styleW, ms=msW)\n",
    "    if text is not None:\n",
    "        minX = min([p[0] for p in V])\n",
    "        plt.text(minX, 0, text)\n",
    "    if grid:\n",
    "        plt.grid()\n",
    "    plt.show()"
   ]
  },
  {
   "cell_type": "markdown",
   "id": "0d5c12ac",
   "metadata": {
    "hidden": true
   },
   "source": [
    "## Generate Data"
   ]
  },
  {
   "cell_type": "code",
   "execution_count": 36,
   "id": "6158d92c",
   "metadata": {
    "ExecuteTime": {
     "end_time": "2023-07-04T11:55:30.328123Z",
     "start_time": "2023-07-04T11:55:30.321217Z"
    },
    "hidden": true
   },
   "outputs": [],
   "source": [
    "def generateData(seed=None, nodes=100, customers=150, \n",
    "                 plot=False, log=False):\n",
    "\n",
    "    if seed is None:\n",
    "\n",
    "        print(\"Usage:  M, C = generateData(seed=None, \")\n",
    "        print(\"                            nodes=100, customers=50, \")\n",
    "        print(\"                            plot=False, log=False)\")\n",
    "        print(\"\")\n",
    "        print(\"  seed  the seed value to be used for data generation. \")\n",
    "        print(\"        To test the application use seed=0, it will create\")\n",
    "        print(\"        a small map, with a very few customer locations and\")\n",
    "        print(\"        a small set of delivery data.\")\n",
    "        print(\"\")\n",
    "        print(\"  nodes the number of intersections (vertices) in the generated map\")\n",
    "        print(\"\")\n",
    "        print(\"  customers  the number of customers generated on the map\")\n",
    "        print(\"\")\n",
    "        print(\"  log   Controls print output during data generation.\")\n",
    "        print(\"\")\n",
    "        print(\"  plot  Controls graphical output during data generation.\")\n",
    "        print(\"\")\n",
    "        print(\"Returns:\")\n",
    "        print(\"\")\n",
    "        print(\"  M = (V, E) is the generated map given as a graph\")\n",
    "        print(\"    where V is a list of vertices, with each vertice \")\n",
    "        print(\"    given as a pair (x, y) of integer coordinates, \")\n",
    "        print(\"    and E is a list of edges, with each edge given\")\n",
    "        print(\"    as a pair (A, B) of vertices, with each vertex again\")\n",
    "        print(\"    given as a pair (x, y) of integer coordinates\")\n",
    "        print(\"\")\n",
    "        # print(\"  W ∈ V  is the location of the distribution warehouse\")\n",
    "        # print(\"    given as a pair (x, y) of integer coordinates\")\n",
    "        # print(\"\")\n",
    "        print(\"  C is a list of customer locations\")\n",
    "        print(\"    given as pairs (x, y) of integer coordinates on or near\")\n",
    "        print(\"    existing edges E. To integrate a set of customer locations\")\n",
    "        print(\"    into a given map M = (V, E), use addTarget(M, C)\")\n",
    "        print(\"\")\n",
    "        \n",
    "        seed = 0\n",
    "    \n",
    "    if seed==0:          # generate very simple test data \n",
    "        nodes = 20       # number of points in map\n",
    "        customers = 5    # number of  customers\n",
    "        grid = True\n",
    "            \n",
    "    else:\n",
    "        grid = False\n",
    "        \n",
    "    random.seed(seed)\n",
    "    \n",
    "    V, E = generateGraph(nodes, 4000, 4000, 4000)\n",
    "    \n",
    "    C = generateRandomTargets(V, E, customers)\n",
    "\n",
    "    if log:\n",
    "        print(f\"Generated map with {nodes:d} nodes and \" \n",
    "              f\"{customers:d} customer locations\")\n",
    "    if plot:\n",
    "        label=\"\" if seed==0 else f\"seed={seed:4d}\"\n",
    "        plotMap((V, E), T=C, text=label, grid=grid)\n",
    "    \n",
    "    return (V, E), C"
   ]
  },
  {
   "cell_type": "code",
   "execution_count": 37,
   "id": "0dd70057",
   "metadata": {
    "ExecuteTime": {
     "end_time": "2023-07-04T11:55:30.446019Z",
     "start_time": "2023-07-04T11:55:30.329224Z"
    },
    "hidden": true
   },
   "outputs": [
    {
     "data": {
      "text/plain": [
       "True"
      ]
     },
     "execution_count": 37,
     "metadata": {},
     "output_type": "execute_result"
    }
   ],
   "source": [
    "D1 = generateData(1234)\n",
    "D2 = generateData(1234)\n",
    "D1 == D2"
   ]
  },
  {
   "cell_type": "markdown",
   "id": "55e44e50",
   "metadata": {},
   "source": [
    "# Generating Data"
   ]
  },
  {
   "cell_type": "markdown",
   "id": "eb2a82f1",
   "metadata": {},
   "source": [
    "This section demonstrates how you can generate the test data for the problem."
   ]
  },
  {
   "cell_type": "markdown",
   "id": "976ca9d4",
   "metadata": {},
   "source": [
    "## Real Sample Data"
   ]
  },
  {
   "cell_type": "markdown",
   "id": "f7f8d163",
   "metadata": {},
   "source": [
    "This section shows sample data as you you may get them for your required simulation. "
   ]
  },
  {
   "cell_type": "code",
   "execution_count": 40,
   "id": "e491ef3a",
   "metadata": {
    "ExecuteTime": {
     "end_time": "2023-07-04T11:55:30.936103Z",
     "start_time": "2023-07-04T11:55:30.603565Z"
    },
    "scrolled": true
   },
   "outputs": [
    {
     "name": "stdout",
     "output_type": "stream",
     "text": [
      "Generated map with 40 nodes and 20 customer locations\n"
     ]
    },
    {
     "data": {
      "image/png": "[encoded data removed]",
      "text/plain": [
       "<Figure size 600x600 with 1 Axes>"
      ]
     },
     "metadata": {},
     "output_type": "display_data"
    }
   ],
   "source": [
    "data = generateData(4144, nodes= 40, customers= 20 ,plot=True, log=True)"
   ]
  },
  {
   "cell_type": "markdown",
   "id": "b7bdb541",
   "metadata": {},
   "source": [
    "Save sample data as pickle file:"
   ]
  },
  {
   "cell_type": "code",
   "execution_count": 41,
   "id": "cc4156ed",
   "metadata": {
    "ExecuteTime": {
     "end_time": "2023-07-04T11:55:30.940374Z",
     "start_time": "2023-07-04T11:55:30.937437Z"
    }
   },
   "outputs": [],
   "source": [
    "import pickle\n",
    "with open('data.pickled', 'wb') as f:\n",
    "    pickle.dump(data, f)"
   ]
  },
  {
   "cell_type": "code",
   "execution_count": null,
   "id": "981e1bb5",
   "metadata": {},
   "outputs": [],
   "source": []
  }
 ],
 "metadata": {
  "kernelspec": {
   "display_name": "Python 3 (ipykernel)",
   "language": "python",
   "name": "python3"
  },
  "language_info": {
   "codemirror_mode": {
    "name": "ipython",
    "version": 3
   },
   "file_extension": ".py",
   "mimetype": "text/x-python",
   "name": "python",
   "nbconvert_exporter": "python",
   "pygments_lexer": "ipython3",
   "version": "3.10.6"
  },
  "toc": {
   "base_numbering": 1,
   "nav_menu": {
    "height": "437px",
    "width": "249px"
   },
   "number_sections": true,
   "sideBar": true,
   "skip_h1_title": false,
   "title_cell": "Table of Contents",
   "title_sidebar": "Contents",
   "toc_cell": true,
   "toc_position": {},
   "toc_section_display": true,
   "toc_window_display": false
  }
 },
 "nbformat": 4,
 "nbformat_minor": 5
}
