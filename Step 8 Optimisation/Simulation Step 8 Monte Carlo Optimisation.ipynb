{
 "cells": [
  {
   "cell_type": "markdown",
   "id": "f42bc8d5",
   "metadata": {
    "toc": true
   },
   "source": [
    "<h1>Table of Contents<span class=\"tocSkip\"></span></h1>\n",
    "<div class=\"toc\"><ul class=\"toc-item\"><li><span><a href=\"#Prelude\" data-toc-modified-id=\"Prelude-1\"><span class=\"toc-item-num\">1&nbsp;&nbsp;</span>Prelude</a></span></li><li><span><a href=\"#Utilities-(as-before)\" data-toc-modified-id=\"Utilities-(as-before)-2\"><span class=\"toc-item-num\">2&nbsp;&nbsp;</span>Utilities (as before)</a></span></li><li><span><a href=\"#Finding-Shortest-Path-(as-before)\" data-toc-modified-id=\"Finding-Shortest-Path-(as-before)-3\"><span class=\"toc-item-num\">3&nbsp;&nbsp;</span>Finding Shortest Path (as before)</a></span></li><li><span><a href=\"#Finding-Shortest-Delivery-Route-(as-before)\" data-toc-modified-id=\"Finding-Shortest-Delivery-Route-(as-before)-4\"><span class=\"toc-item-num\">4&nbsp;&nbsp;</span>Finding Shortest Delivery Route (as before)</a></span></li><li><span><a href=\"#Time-Handling\" data-toc-modified-id=\"Time-Handling-5\"><span class=\"toc-item-num\">5&nbsp;&nbsp;</span>Time Handling</a></span></li><li><span><a href=\"#Class-Recorder\" data-toc-modified-id=\"Class-Recorder-6\"><span class=\"toc-item-num\">6&nbsp;&nbsp;</span>Class Recorder</a></span></li><li><span><a href=\"#Class-Parcel\" data-toc-modified-id=\"Class-Parcel-7\"><span class=\"toc-item-num\">7&nbsp;&nbsp;</span>Class Parcel</a></span></li><li><span><a href=\"#Class-Customer\" data-toc-modified-id=\"Class-Customer-8\"><span class=\"toc-item-num\">8&nbsp;&nbsp;</span>Class Customer</a></span></li><li><span><a href=\"#Class-Driver\" data-toc-modified-id=\"Class-Driver-9\"><span class=\"toc-item-num\">9&nbsp;&nbsp;</span>Class Driver</a></span></li><li><span><a href=\"#Class-Delivery-Centre\" data-toc-modified-id=\"Class-Delivery-Centre-10\"><span class=\"toc-item-num\">10&nbsp;&nbsp;</span>Class Delivery Centre</a></span></li><li><span><a href=\"#Simulation\" data-toc-modified-id=\"Simulation-11\"><span class=\"toc-item-num\">11&nbsp;&nbsp;</span>Simulation</a></span><ul class=\"toc-item\"><li><span><a href=\"#Parameters-from-Specification\" data-toc-modified-id=\"Parameters-from-Specification-11.1\"><span class=\"toc-item-num\">11.1&nbsp;&nbsp;</span>Parameters from Specification</a></span></li><li><span><a href=\"#Generate-Input-Data\" data-toc-modified-id=\"Generate-Input-Data-11.2\"><span class=\"toc-item-num\">11.2&nbsp;&nbsp;</span>Generate Input Data</a></span></li><li><span><a href=\"#Simulation-Routine\" data-toc-modified-id=\"Simulation-Routine-11.3\"><span class=\"toc-item-num\">11.3&nbsp;&nbsp;</span>Simulation Routine</a></span></li><li><span><a href=\"#Model-Verification\" data-toc-modified-id=\"Model-Verification-11.4\"><span class=\"toc-item-num\">11.4&nbsp;&nbsp;</span>Model Verification</a></span></li></ul></li></ul></div>"
   ]
  },
  {
   "cell_type": "markdown",
   "id": "ec57130e",
   "metadata": {},
   "source": [
    "# Prelude"
   ]
  },
  {
   "cell_type": "code",
   "execution_count": 1,
   "id": "7bfcffb3",
   "metadata": {
    "ExecuteTime": {
     "end_time": "2023-04-13T17:28:42.052308Z",
     "start_time": "2023-04-13T17:28:40.475242Z"
    }
   },
   "outputs": [],
   "source": [
    "import matplotlib.pyplot as plt\n",
    "import pulp\n",
    "import math\n",
    "import random\n",
    "import pandas as pd\n",
    "import numpy as np\n",
    "import time\n",
    "import simpy"
   ]
  },
  {
   "cell_type": "markdown",
   "id": "5b54bfd8",
   "metadata": {
    "heading_collapsed": true
   },
   "source": [
    "# Utilities (as before)"
   ]
  },
  {
   "cell_type": "markdown",
   "id": "b099e9f1-cb1e-4884-8400-774decdec27d",
   "metadata": {},
   "source": [
    "## Points and Distances"
   ]
  },
  {
   "cell_type": "code",
   "execution_count": 2,
   "id": "6b7d165d-e683-4847-b0f3-16c6bf409ce0",
   "metadata": {},
   "outputs": [],
   "source": [
    "def dist(p1, p2):\n",
    "    (x1, y1) = p1\n",
    "    (x2, y2) = p2\n",
    "    return int(math.sqrt((x1-x2)**2+(y1-y2)**2))"
   ]
  },
  {
   "cell_type": "markdown",
   "id": "c7982679-5f22-4fc8-8a4f-4743a989dfcd",
   "metadata": {
    "ExecuteTime": {
     "end_time": "2023-04-13T17:28:42.057644Z",
     "start_time": "2023-04-13T17:28:42.055424Z"
    },
    "hidden": true
   },
   "source": [
    "## PlotMap"
   ]
  },
  {
   "cell_type": "code",
   "execution_count": 3,
   "id": "01ba605f",
   "metadata": {
    "ExecuteTime": {
     "end_time": "2023-04-13T17:28:42.068161Z",
     "start_time": "2023-04-13T17:28:42.059395Z"
    },
    "hidden": true
   },
   "outputs": [],
   "source": [
    "def plotMap(G, T=[], P=[], W=None,\n",
    "            style='r-o', lw=1, ms=3, \n",
    "            styleT='go', msT=5,\n",
    "            styleP='b-o', lwP=3, msP=1,\n",
    "            stylePT='go', msPT=7,\n",
    "            styleW='bo', msW=9,\n",
    "            text=None, grid=False):\n",
    "    fig = plt.gcf()\n",
    "    fig.set_size_inches(6, 6)\n",
    "    V, E = G\n",
    "\n",
    "    if not grid:\n",
    "        plt.axis('off')\n",
    "    plt.plot( [ p[0] for p in V ], [ p[1] for p in V ], 'ro', lw=lw, ms=ms)\n",
    "    for (p, q) in E:\n",
    "        plt.plot( [ p[0], q[0] ], [ p[1], q[1] ], 'r-o', lw=lw, ms=ms)\n",
    "    for t in T:\n",
    "        plt.plot( [ t[0] ], [ t[1] ], \n",
    "                  styleT, ms=msT)\n",
    "    plt.plot( [ p[0] for p in P ],\n",
    "              [ p[1] for p in P ], \n",
    "              styleP, lw=lwP, ms=msP)\n",
    "    for p in P:\n",
    "        if p in T:\n",
    "            plt.plot( [ p[0] ], [ p[1] ], \n",
    "                      stylePT, ms=msPT)\n",
    "    if W is not None:\n",
    "        plt.plot( [ W[0] ], [ W[1] ], \n",
    "                      styleW, ms=msW)\n",
    "    if text is not None:\n",
    "        maxX = max([p[0] for p in V])\n",
    "        plt.text(0.8*maxX, 0, text)\n",
    "    if grid:\n",
    "        plt.grid()\n",
    "    plt.show()"
   ]
  },
  {
   "cell_type": "code",
   "execution_count": 4,
   "id": "4aa71372",
   "metadata": {},
   "outputs": [],
   "source": [
    "def plotMap(G, T=[], P=[], W=None,\n",
    "            style='r-o', lw=1, ms=3, \n",
    "            styleT='go', msT=5,\n",
    "            styleP='b-o', lwP=3, msP=1,\n",
    "            stylePT='go', msPT=7,\n",
    "            styleW='bo', msW=9,\n",
    "            text=None, grid=False):\n",
    "    fig = plt.gcf()\n",
    "    fig.set_size_inches(6, 6)\n",
    "    V, E = G\n",
    "\n",
    "    if not grid:\n",
    "        plt.axis('off')\n",
    "    plt.plot( [ p[0] for p in V ], [ p[1] for p in V ], 'ro', lw=lw, ms=ms)\n",
    "    for (p, q) in E:\n",
    "        plt.plot( [ p[0], q[0] ], [ p[1], q[1] ], 'r-o', lw=lw, ms=ms)\n",
    "    for t in T:\n",
    "        plt.plot( [ t[0] ], [ t[1] ], \n",
    "                  styleT, ms=msT)\n",
    "    plt.plot( [ p[0] for p in P ],\n",
    "              [ p[1] for p in P ], \n",
    "              styleP, lw=lwP, ms=msP)\n",
    "    for p in P:\n",
    "        if p in T:\n",
    "            plt.plot( [ p[0] ], [ p[1] ], \n",
    "                      stylePT, ms=msPT)\n",
    "    if W is not None:\n",
    "        plt.plot( [ W[0] ], [ W[1] ], \n",
    "                      styleW, ms=msW)\n",
    "    if text is not None:\n",
    "        maxX = max([p[0] for p in V])\n",
    "        plt.text(0.8*maxX, 0, text)\n",
    "    if grid:\n",
    "        plt.grid()\n",
    "    plt.show()"
   ]
  },
  {
   "cell_type": "markdown",
   "id": "fa825024-2e59-4e3a-955b-3d14c0c36e80",
   "metadata": {},
   "source": [
    "## Add Targets"
   ]
  },
  {
   "cell_type": "code",
   "execution_count": 5,
   "id": "745241cb-95a5-470f-8f61-739bd31302f6",
   "metadata": {},
   "outputs": [],
   "source": [
    "def addTargets(M, T):\n",
    "    V, E = M\n",
    "    E = E.copy()\n",
    "    V = V.copy()\n",
    "    for t in T:\n",
    "        minD = math.inf\n",
    "        minE = None\n",
    "        for e in E:\n",
    "            P, Q = e\n",
    "            distT = dist(P, t)+dist(t, Q)-dist(P, Q)\n",
    "            if distT < minD:\n",
    "                minD = distT\n",
    "                minE = e\n",
    "        P, Q = minE\n",
    "        E.remove( (P, Q) )\n",
    "        E.append( (P, t) )\n",
    "        E.append( (t, Q) )\n",
    "        V.append(t)\n",
    "    return V, E"
   ]
  },
  {
   "cell_type": "markdown",
   "id": "0d627c12-0a9b-4180-9824-26b53d73ecbf",
   "metadata": {},
   "source": [
    "## Generate Warehouse Location"
   ]
  },
  {
   "cell_type": "code",
   "execution_count": 6,
   "id": "0c4e4ed1-cbdd-46e5-b243-34be1e954546",
   "metadata": {},
   "outputs": [],
   "source": [
    "def generateWarehouseLocation(M):\n",
    "    V, _ = M\n",
    "    W = random.sample(V, k=1)[0]\n",
    "    return W"
   ]
  },
  {
   "cell_type": "code",
   "execution_count": null,
   "id": "28f7d032-2610-4210-a296-9e8e363e3d44",
   "metadata": {},
   "outputs": [],
   "source": []
  },
  {
   "cell_type": "markdown",
   "id": "58315c6a-3e39-46b3-a5dd-7b21283d939b",
   "metadata": {},
   "source": [
    "## Time Handling"
   ]
  },
  {
   "cell_type": "markdown",
   "id": "bba6bb52-b0fa-4845-86d9-50ca4b70c0b5",
   "metadata": {},
   "source": [
    "**Convention:** In this project we measure time in seconds. The simulation will start at 0:00. Time related methods will be added as they are needed."
   ]
  },
  {
   "cell_type": "markdown",
   "id": "76128002-dfa1-40ef-afa2-3aec3bb409c0",
   "metadata": {},
   "source": [
    "`timestamp(t)` generates a timestamp string in the form `[dd] hh:mm:ss.d`"
   ]
  },
  {
   "cell_type": "code",
   "execution_count": 7,
   "id": "be0dcd1e",
   "metadata": {
    "ExecuteTime": {
     "end_time": "2023-04-13T17:28:42.110025Z",
     "start_time": "2023-04-13T17:28:42.106407Z"
    }
   },
   "outputs": [],
   "source": [
    "    def timestamp(t):\n",
    "        day = int(t)//(24*3600)\n",
    "        t = t - day*24*3600\n",
    "        hour = int(t)//3600\n",
    "        t = t - hour*3600\n",
    "        mins = int(t)//60\n",
    "        t = t - mins*60\n",
    "        secs = int(math.floor(t))\n",
    "        t = int(math.floor((t - secs)*10))\n",
    "        return f\"[{day:2d}] {hour:02d}:{mins:02d}:{secs:02d}.{t:1d}\""
   ]
  },
  {
   "cell_type": "code",
   "execution_count": 8,
   "id": "a4bc1fce",
   "metadata": {
    "ExecuteTime": {
     "end_time": "2023-04-13T17:28:42.118679Z",
     "start_time": "2023-04-13T17:28:42.114544Z"
    }
   },
   "outputs": [
    {
     "data": {
      "text/plain": [
       "'[ 3] 17:10:15.0'"
      ]
     },
     "execution_count": 8,
     "metadata": {},
     "output_type": "execute_result"
    }
   ],
   "source": [
    "timestamp(24*3600*3+17*3600+615.1)"
   ]
  },
  {
   "cell_type": "code",
   "execution_count": 9,
   "id": "7915aa78",
   "metadata": {
    "ExecuteTime": {
     "end_time": "2023-04-13T17:28:42.122617Z",
     "start_time": "2023-04-13T17:28:42.120176Z"
    }
   },
   "outputs": [],
   "source": [
    "def nextHour(env, hour):\n",
    "    beginningOfDay = int(env.now//(24*3600))*24*3600\n",
    "    timeOfDay = env.now-beginningOfDay\n",
    "    if hour*3600 > timeOfDay:\n",
    "        return hour*3600 - timeOfDay\n",
    "    else:\n",
    "        return hour*3600 + 24*3600 - timeOfDay"
   ]
  },
  {
   "cell_type": "code",
   "execution_count": 10,
   "id": "5866a8db",
   "metadata": {
    "ExecuteTime": {
     "end_time": "2023-04-13T17:28:42.127404Z",
     "start_time": "2023-04-13T17:28:42.124551Z"
    }
   },
   "outputs": [],
   "source": [
    "def day(now):\n",
    "    return int(now//(24*3600))"
   ]
  },
  {
   "cell_type": "markdown",
   "id": "f5f750e6-1d0d-44fd-8040-8b0f609e5093",
   "metadata": {},
   "source": [
    "## Plotting Routines"
   ]
  },
  {
   "cell_type": "code",
   "execution_count": 11,
   "id": "cf15febc-a724-4f48-af6e-0c094710bdcb",
   "metadata": {},
   "outputs": [],
   "source": [
    "import scipy.stats as stats\n",
    "\n",
    "def histplot(data, title=\"\", xlabel=\"\",\n",
    "             width=None, height=None):\n",
    "    \n",
    "    minx = min(data)\n",
    "    maxx = max(data)\n",
    "    μ = np.mean(data)\n",
    "    σ = np.std(data)\n",
    "    \n",
    "    fig = plt.figure()\n",
    "    fig.set_figwidth(width if width is not None else 4)\n",
    "    fig.set_figheight(height if height is not None else 2.5)\n",
    "    ax = fig.gca()\n",
    "        \n",
    "    bins=(maxx-minx)//5+1\n",
    "    hist=plt.hist(data, density=True, bins=bins)\n",
    "    plt.xlabel(xlabel)\n",
    "    plt.ylabel('Density')\n",
    "    plt.title(title)\n",
    "        \n",
    "    x = np.linspace(minx, maxx, 100)\n",
    "    y = [ stats.norm(loc=μ, scale=σ).pdf(p) for p in x]\n",
    "    ax.plot(x, y, lw=1, color='red')\n",
    "    ax.axvline(x=μ, color='red')\n",
    "    maxy = max(max(y), max(hist[0]))\n",
    "    ax.text(maxx, maxy, \n",
    "            f'μ={μ:2.2f}\\nσ={σ:2.2f}', \n",
    "            ha='right', va='top', \n",
    "            color='red', fontsize=12)\n",
    "    ax.grid(True)\n",
    "    plt.show()"
   ]
  },
  {
   "cell_type": "code",
   "execution_count": 12,
   "id": "e6b31ddd-5931-48fd-bb36-50ae60c6a4c7",
   "metadata": {},
   "outputs": [],
   "source": [
    "def dailyPlot(data, \n",
    "              title=\"\", ylabel=\"\",\n",
    "              width=None, height=None):\n",
    "    \n",
    "    days = len(data)\n",
    "    \n",
    "    fig = plt.figure()\n",
    "    fig.set_figwidth(width if width is not None else 6)\n",
    "    fig.set_figheight(height if height is not None else 2)\n",
    "    \n",
    "    ax = fig.gca()\n",
    "    diff = (max(data)-min(data))*0.1\n",
    "    ymin = int(math.floor(min(data)-diff))\n",
    "    ymax = int(math.ceil(max(data)+diff))\n",
    "    ax.set_xlim(-1, days)\n",
    "    ax.set_ylim(ymin, ymax)\n",
    "    ax.grid(True)\n",
    "    \n",
    "    ms = 2 if len(data)>100 else 5\n",
    "    lw = 0.5 if len(data)>100 else 1\n",
    "\n",
    "    x = np.arange(0, len(data))\n",
    "    y = np.array([ y for y in data ])\n",
    "    b, m = np.polynomial.polynomial.polyfit(x, y, 1)\n",
    "    \n",
    "    plt.plot(x, y, 'bo-', linewidth=lw, markersize=ms)\n",
    "    plt.plot(x, m*x+b, 'r-')\n",
    "    \n",
    "    plt.xlabel('Day')\n",
    "    plt.ylabel(ylabel)\n",
    "    plt.title(title)\n",
    "    plt.show()"
   ]
  },
  {
   "cell_type": "markdown",
   "id": "6a210754",
   "metadata": {
    "heading_collapsed": true
   },
   "source": [
    "# Finding Shortest Path (as before)"
   ]
  },
  {
   "cell_type": "code",
   "execution_count": 13,
   "id": "6632106e",
   "metadata": {
    "ExecuteTime": {
     "end_time": "2023-04-13T17:28:42.074585Z",
     "start_time": "2023-04-13T17:28:42.071575Z"
    },
    "hidden": true
   },
   "outputs": [],
   "source": [
    "def dist(p1, p2):\n",
    "    (x1, y1) = p1\n",
    "    (x2, y2) = p2\n",
    "    return int(math.sqrt((x1-x2)**2+(y1-y2)**2))"
   ]
  },
  {
   "cell_type": "code",
   "execution_count": 14,
   "id": "8344c604",
   "metadata": {
    "ExecuteTime": {
     "end_time": "2023-04-13T17:28:42.079458Z",
     "start_time": "2023-04-13T17:28:42.076537Z"
    },
    "hidden": true
   },
   "outputs": [],
   "source": [
    "def pathLength(P):\n",
    "    return 0 if len(P)<=1 else \\\n",
    "            dist(P[0], P[1])+pathLength(P[1:])"
   ]
  },
  {
   "cell_type": "code",
   "execution_count": 15,
   "id": "8d5f754b",
   "metadata": {
    "ExecuteTime": {
     "end_time": "2023-04-13T17:28:42.086475Z",
     "start_time": "2023-04-13T17:28:42.081011Z"
    },
    "hidden": true
   },
   "outputs": [],
   "source": [
    "def shortestPath(M, A, B):\n",
    "\n",
    "    def h(p): \n",
    "        return pathLength(p)+dist(p[-1],B)\n",
    "    \n",
    "    # candidates C are pairs of the path so far and \n",
    "    # the heuristic function of that path, \n",
    "    # sorted by the heuristic function, as maintained by\n",
    "    # insert function\n",
    "    def insert(C, p):\n",
    "        hp = h(p)\n",
    "        c = (p, hp)\n",
    "        for i in range(len(C)):\n",
    "            if C[i][1]>hp:\n",
    "                return C[:i]+[c]+C[i:]\n",
    "        return C+[c]   \n",
    "        \n",
    "    V, E = M\n",
    "    assert(A in V and B in V)    \n",
    "    C = insert([], [A])\n",
    "\n",
    "    while len(C)>0:\n",
    "        # take the first candidate out of the list of candidates\n",
    "        path, _ = C[0]\n",
    "        C = C[1:]\n",
    "        if path[-1]==B:\n",
    "            return path\n",
    "        else:\n",
    "            for (x, y) in E:\n",
    "                if path[-1]==x and y not in path:\n",
    "                    C = insert(C, path+[y])\n",
    "                elif path[-1]==y and x not in path:\n",
    "                    C = insert(C, path+[x])\n",
    "    return None"
   ]
  },
  {
   "cell_type": "markdown",
   "id": "a7ea55bb",
   "metadata": {
    "heading_collapsed": true
   },
   "source": [
    "# Finding Shortest Delivery Route (as before)"
   ]
  },
  {
   "cell_type": "code",
   "execution_count": 16,
   "id": "02abdd22",
   "metadata": {
    "ExecuteTime": {
     "end_time": "2023-04-13T17:28:42.094309Z",
     "start_time": "2023-04-13T17:28:42.087846Z"
    },
    "hidden": true
   },
   "outputs": [],
   "source": [
    "def createTables(M, T):\n",
    "\n",
    "    def reverse(P):\n",
    "        return [ P[-i] for i in range(1,len(P)+1) ]\n",
    "    \n",
    "    def index(x, L):\n",
    "        for i in range(len(L)):\n",
    "            if x==L[i]: \n",
    "                return i\n",
    "        return None\n",
    "\n",
    "    n = len(T)\n",
    "    d = [ [ math.inf for t in T ] for t in T ]\n",
    "    p = [ [ None for t in T ] for t in T ]\n",
    "    for i in range(n):\n",
    "        d[i][i] = 0\n",
    "        p[i][i] = [ T[i] ]\n",
    "    for i in range(n):\n",
    "        for j in range(n):\n",
    "            if p[i][j] is None:\n",
    "                s = shortestPath(M, T[i], T[j])\n",
    "                d[i][j] = d[j][i] = pathLength(s)\n",
    "                p[i][j] = s\n",
    "                p[j][i] = reverse(s)\n",
    "                for m in range(len(s)-1):\n",
    "                    smi = index(s[m], T)\n",
    "                    if smi is None:\n",
    "                        continue\n",
    "                    for l in range(m+1, len(s)):\n",
    "                        sli = index(s[l], T)\n",
    "                        if sli is None:\n",
    "                            continue  \n",
    "                        sub = s[m:l+1]\n",
    "                        if p[smi][sli] is None:\n",
    "                            p[smi][sli] = sub\n",
    "                            p[sli][smi] = reverse(sub)\n",
    "                            d[smi][sli] = d[sli][smi] = pathLength(sub)\n",
    "    return d,p               "
   ]
  },
  {
   "cell_type": "code",
   "execution_count": 17,
   "id": "aa0e7767",
   "metadata": {
    "ExecuteTime": {
     "end_time": "2023-04-13T17:28:42.105139Z",
     "start_time": "2023-04-13T17:28:42.095365Z"
    },
    "hidden": true
   },
   "outputs": [],
   "source": [
    "def roundtrips(x, n):\n",
    "    \n",
    "    def isElem(x, l):\n",
    "        for i in range(len(l)):\n",
    "            if l[i]==x:\n",
    "                return True\n",
    "        return False\n",
    "\n",
    "    def startpoint(trips):\n",
    "        for i in range(n):\n",
    "            for t in trips:\n",
    "                if isElem(i, t):\n",
    "                    break\n",
    "            else:\n",
    "                return i\n",
    "    \n",
    "    def totalLength(trips):\n",
    "        s=0\n",
    "        for i in range(0, len(trips)):\n",
    "            s += len(trips[i])-1\n",
    "        return s\n",
    "\n",
    "    trips = []\n",
    "    while totalLength(trips)<n:\n",
    "        start = startpoint(trips)\n",
    "        trip = [ start ]\n",
    "        i = start\n",
    "        while len(trip) < n-totalLength(trips):\n",
    "            for j in range(0, n):\n",
    "                if pulp.value(x[i][j])==1:\n",
    "                    trip.append(j)\n",
    "                    i=j\n",
    "                    break        \n",
    "            if pulp.value(x[trip[-1]][start])==1:\n",
    "                trip.append(start)\n",
    "                break\n",
    "        trips.append(trip)\n",
    "    return sorted(trips, key=lambda t: len(t), reverse=True)\n",
    "\n",
    "def createLoop(M, T):\n",
    "    D, P = createTables(M, T)\n",
    "    n = len(T)\n",
    "    # create variables\n",
    "    x = pulp.LpVariable.dicts(\"x\", ( range(n), range(n) ),\n",
    "                            lowBound=0, upBound=1, cat=pulp.LpInteger)\n",
    "    # create problem\n",
    "    prob = pulp.LpProblem(\"Loop\",pulp.LpMinimize)\n",
    "    # add objective function\n",
    "    prob += pulp.lpSum([ D[i][j]*x[i][j] \n",
    "                             for i in range(n) for j in range(n) ])\n",
    "    # add constraints\n",
    "    constraints=0\n",
    "    for j in range(n):\n",
    "        prob += pulp.lpSum([ x[i][j] for i in range(n) if i!=j ]) ==1\n",
    "    constraints += n\n",
    "    for i in range(n):\n",
    "        prob += pulp.lpSum([ x[i][j] for j in range(n) if i!=j ]) ==1\n",
    "    constraints += n\n",
    "    for i in range(n):\n",
    "        for j in range(n):\n",
    "            if i!=j:\n",
    "                prob += x[i][j]+x[j][i] <= 1\n",
    "                constraints += 1\n",
    "    # initialise solver\n",
    "    solvers = pulp.listSolvers(onlyAvailable=True)\n",
    "    solver = pulp.getSolver(solvers[0], msg=0)\n",
    "    # print(f\"{constraints:d} Constraints\")\n",
    "    prob.solve(solver)\n",
    "    trips = roundtrips(x, n)\n",
    "    while len(trips)>1:\n",
    "        for t in trips:\n",
    "            prob += pulp.lpSum([ x[t[i]][t[i+1]] + x[t[i+1]][t[i]]\n",
    "                            for i in range(0,len(t)-1) ]) <= len(t)-2\n",
    "            constraints += 1\n",
    "        # print(f\"{constraints:d} Constraints\")\n",
    "        prob.solve(solver)\n",
    "        trips = roundtrips(x, n)\n",
    "    trip = trips[0]\n",
    "    # print(trip)\n",
    "    loop = []\n",
    "    for k in range(len(trip)-1):\n",
    "        sub = P[trip[k]][trip[k+1]]\n",
    "        loop += sub if len(loop)==0 else sub[1:]\n",
    "    return loop"
   ]
  },
  {
   "cell_type": "markdown",
   "id": "c6ecff7c",
   "metadata": {},
   "source": [
    "# Class Recorder"
   ]
  },
  {
   "cell_type": "markdown",
   "id": "ce47fa90",
   "metadata": {},
   "source": [
    "We willl use a class Recorder as a reference point for capturing data during the simulation. There will be only one recorder. It will be created at the beginning of every simulation run. Every entity will carry a reference to the Recorder. "
   ]
  },
  {
   "cell_type": "code",
   "execution_count": 18,
   "id": "1313c612",
   "metadata": {
    "ExecuteTime": {
     "end_time": "2023-04-13T17:28:42.131899Z",
     "start_time": "2023-04-13T17:28:42.128748Z"
    }
   },
   "outputs": [],
   "source": [
    "class Recorder:\n",
    "    \n",
    "    def __init__(self, env, M, W, C, days, \n",
    "                 log=False, plot=False, timing=False):\n",
    "        self.env = env\n",
    "        self.M = M\n",
    "        self.W = W\n",
    "        self.C = C\n",
    "        self.days = days\n",
    "        self.log = log\n",
    "        self.plot = plot\n",
    "        \n",
    "        self.timing = timing\n",
    "        self.start_time = time.time()\n",
    "        self.last_time = self.start_time\n",
    "        self.cum_timer = {}\n",
    "\n",
    "        Customer.REGISTER = []\n",
    "        Parcel.REGISTER = []\n",
    "\n",
    "        # create a data frame for records per working day\n",
    "        self.daily = pd.DataFrame()\n",
    "        self.daily['begin work at'] = [None]*days\n",
    "        self.daily['end work at'] = [None]*days\n",
    "        self.daily['dist'] = [None]*days\n",
    "        self.daily['left'] = [None]*days\n",
    "\n",
    "    def timer(self, s):\n",
    "        t = time.time()\n",
    "        Δt = t-self.last_time\n",
    "        if self.timing:\n",
    "            print(f\"==== t: {t-self.start_time:6.2f}s \"\n",
    "                  f\"Δt: {Δt:6.2f}s [{s:s}]\")\n",
    "        if s in self.cum_timer:\n",
    "            self.cum_timer[s] += Δt\n",
    "        else:\n",
    "            self.cum_timer[s] = Δt\n",
    "        self.last_time = t\n",
    "\n",
    "    def reportTimer(self):\n",
    "        print(f\"==== t: {self.total_time:6.2f}s Total\")\n",
    "        for k in sorted(self.cum_timer, key=lambda x: self.cum_timer[x], reverse=True):\n",
    "            print(f\"==== ΣΔt: {self.cum_timer[k]:6.2f}s \"+ k)\n",
    "\n",
    "    def trace(self, event):\n",
    "        if self.log:\n",
    "            print(timestamp(self.env.now), event)\n",
    "\n",
    "    def recordDriverBeginsWork(self):\n",
    "        self.trace(\"Driver arrives for work\")\n",
    "        self.daily.at[day(self.env.now), 'begin work at'] = int(round(self.env.now))\n",
    "        \n",
    "    def recordDriverEndsWork(self):\n",
    "        self.trace(\"Driver goes home\")\n",
    "        self.daily.at[day(self.env.now), 'end work at'] = int(round(self.env.now))\n",
    "    \n",
    "    def recordTourLength(self, length):\n",
    "        self.daily.at[day(self.env.now), 'dist'] = int(length)\n",
    "\n",
    "    def recordParcelsLeftOver(self, numberOfParcels):\n",
    "        self.trace(f\"{numberOfParcels:d} left over for next day\")\n",
    "        self.daily.at[day(self.env.now), 'left'] = numberOfParcels\n",
    "\n",
    "    def finish(self):\n",
    "        self.total_time = time.time()-self.start_time\n",
    "        self.daily['working time'] = (self.daily['end work at']-self.daily['begin work at'])//60\n",
    "        # simulation is finished for good\n",
    "        # by removing the simulation environment we can\n",
    "        # pickle recorder\n",
    "        self.env = None\n",
    "        \n",
    "    def __stats__(self, column):\n",
    "        d = self.daily[column].copy()\n",
    "        return d.mean(), d.median(), d.std()\n",
    "        \n",
    "    def statsWorkingTime(self):\n",
    "        return self.__stats__('working time')\n",
    "        \n",
    "    def histWorkingTime(self):\n",
    "        histplot(self.daily['working time'],\n",
    "                 xlabel='Working Time [min]',\n",
    "                 title='Daily Working Time')\n",
    "        \n",
    "    def plotWorkingTime(self):\n",
    "        dailyPlot(self.daily['working time'],\n",
    "                  ylabel='Working Time [min]',\n",
    "                  title='Daily Working Time')\n",
    "\n",
    "    def statsTourLength(self):\n",
    "        return self.__stats__('dist')\n",
    "        \n",
    "    def histTourLength(self):\n",
    "        histplot(self.daily['dist'],\n",
    "                 xlabel='Tour Length [m]',\n",
    "                 title='Daily Tour Length')\n",
    "            \n",
    "    def plotTourLength(self):\n",
    "        dailyPlot(self.daily['dist'],\n",
    "                  ylabel='Tour Length [m]',\n",
    "                  title='Daily Tour Length')\n",
    "\n",
    "    def statsLeftOver(self):\n",
    "        return self.__stats__('left')\n",
    "        \n",
    "    def histLeftOver(self):\n",
    "        histplot(self.daily['left'],\n",
    "                 xlabel='Left-Over Parcels',\n",
    "                 title='Daily Left-Over Parcels')\n",
    "                \n",
    "    def plotLeftOver(self):\n",
    "        dailyPlot(self.daily['left'],\n",
    "                  ylabel='Number of Parcels',\n",
    "                  title='Daily Left-Over Parcels')"
   ]
  },
  {
   "cell_type": "markdown",
   "id": "4a66f185",
   "metadata": {
    "heading_collapsed": true
   },
   "source": [
    "# Class Parcel"
   ]
  },
  {
   "cell_type": "markdown",
   "id": "88ec993d",
   "metadata": {
    "hidden": true
   },
   "source": [
    "<img src='EventGraph Parcel.png' width=500/>"
   ]
  },
  {
   "cell_type": "markdown",
   "id": "feed7758",
   "metadata": {
    "hidden": true
   },
   "source": [
    "Parcels follow through a sequence of states:\n",
    "- processing\n",
    "- in transit (from manufacture to distribution centre)\n",
    "- arrived in distribution centre\n",
    "- ready for delivery \n",
    "- out for delivery\n",
    "- customer not present\n",
    "- returned to distribution centre\n",
    "- delivered"
   ]
  },
  {
   "cell_type": "code",
   "execution_count": 19,
   "id": "de2cc49a",
   "metadata": {
    "ExecuteTime": {
     "end_time": "2023-04-13T17:28:42.137592Z",
     "start_time": "2023-04-13T17:28:42.132953Z"
    },
    "hidden": true
   },
   "outputs": [],
   "source": [
    "class Parcel:\n",
    "    \n",
    "    REGISTER = []\n",
    "    \n",
    "    def __init__(self, rec, i, cust, custIndex):\n",
    "        self.rec = rec\n",
    "        self.i = i  # row index in data frames of input data\n",
    "        self.dest = cust.location\n",
    "        self.custIndex = custIndex\n",
    "        self.status = [ 'processing' ] # status record and\n",
    "        self.timing = [ self.rec.env.now ]      # timing\n",
    "        assert(len(Parcel.REGISTER)==i)\n",
    "        Parcel.REGISTER += [ self ] \n",
    "    \n",
    "    # factory method ensures that there is only\n",
    "    # one Parcel per location\n",
    "    def getParcel(rec, i, location, custIndex):\n",
    "        for p in Parcel.REGISTER:\n",
    "            if p.i == i:\n",
    "                return p\n",
    "        return Parcel(rec, i, location, custIndex)\n",
    "\n",
    "    \n",
    "    def __str__(self):\n",
    "        return f\"Parcel: {self.i:3d} ({self.custIndex:3d})\"\n",
    "\n",
    "    def index(self):\n",
    "        return self.i\n",
    "    \n",
    "    def destination(self):\n",
    "        return self.dest\n",
    "    \n",
    "    def __reg(self, state):\n",
    "        self.status += [ state ]\n",
    "        self.timing += [ self.rec.env.now ]\n",
    "        self.rec.trace(str(self)+\" \"+state)\n",
    "        \n",
    "    def arrivedAtDeliveryCentre(self):\n",
    "        self.__reg('arr at delivery centre')\n",
    "        \n",
    "    def outForDelivery(self): \n",
    "        self.__reg('out for delivery')\n",
    "        \n",
    "    def returnFromDelivery(self):\n",
    "        self.__reg('return from delivery')\n",
    "    "
   ]
  },
  {
   "cell_type": "markdown",
   "id": "7485feda",
   "metadata": {},
   "source": [
    "# Class Customer"
   ]
  },
  {
   "cell_type": "markdown",
   "id": "36c4903f",
   "metadata": {},
   "source": [
    "<img src='EventGraph Customer.png' width=500/>"
   ]
  },
  {
   "cell_type": "code",
   "execution_count": 20,
   "id": "81e2076b",
   "metadata": {
    "ExecuteTime": {
     "end_time": "2023-04-13T17:28:42.145420Z",
     "start_time": "2023-04-13T17:28:42.139194Z"
    }
   },
   "outputs": [],
   "source": [
    "class Customer:\n",
    "    \n",
    "    REGISTER = []\n",
    "\n",
    "    def __init__(self, rec, location):\n",
    "        self.rec = rec\n",
    "        self.location = location\n",
    "        self.i = len(Customer.REGISTER)\n",
    "        Customer.REGISTER += [ self ]\n",
    "        self.atHome = True\n",
    "        self.answersDoor = False\n",
    "        self.parcelsReceived = []\n",
    "        rec.env.process(self.process())\n",
    "        \n",
    "    def __str__(self):\n",
    "        return f\"Customer: {self.i:2d} {str(self.location):s}\"\n",
    "    \n",
    "    # factory method ensures that there is only\n",
    "    # one customer per location\n",
    "    def getCustomer(rec, location):\n",
    "        for c in Customer.REGISTER:\n",
    "            if c.location == location:\n",
    "                return c\n",
    "        return Customer(rec, location)\n",
    "    \n",
    "    def leaveHouse(self):\n",
    "        assert(self.atHome and not self.answersDoor)\n",
    "        # self.rec.trace(str(self)+\" leaves house\")\n",
    "        self.atHome = False\n",
    "     \n",
    "    def returnHome(self):\n",
    "        assert(not self.atHome)\n",
    "        # self.rec.trace(str(self)+\" returns home\")\n",
    "        self.atHome = True\n",
    "        \n",
    "    def answerDoor(self):\n",
    "        if self.atHome:\n",
    "            yield self.rec.env.timeout(random.expovariate(1/AVERAGE_TIME_ANSWER_DOOR))\n",
    "            self.rec.trace(str(self)+\" answers door\")\n",
    "            self.answersDoor = True\n",
    "        else:\n",
    "            yield self.rec.env.timeout(WAIT_TIME_IF_CUSTOMER_DOESNT_ANSWER_DOOR)\n",
    "            self.rec(str(self)+\" not at home\")\n",
    "            \n",
    "    def acceptParcel(self, parcel):\n",
    "        assert(self.answersDoor)\n",
    "        self.parcelsReceived += [parcel]\n",
    "        self.rec.trace(str(self)+\" accepts \"+str(parcel))\n",
    "        \n",
    "    def signOff(self):\n",
    "        assert(self.answersDoor)\n",
    "        self.rec.trace(str(self)+\" signs off\")\n",
    "        self.answersDoor = False\n",
    "        \n",
    "    def process(self):\n",
    "        yield self.rec.env.timeout(nextHour(self.rec.env, 8))\n",
    "        while day(self.rec.env.now)<self.rec.days:\n",
    "            # in a refinement we may use random times\n",
    "            self.leaveHouse()\n",
    "            yield self.rec.env.timeout(nextHour(self.rec.env, 18))\n",
    "            self.returnHome()\n",
    "            yield self.rec.env.timeout(nextHour(self.rec.env, 8))"
   ]
  },
  {
   "cell_type": "markdown",
   "id": "5094ac7a",
   "metadata": {},
   "source": [
    "# Class Driver"
   ]
  },
  {
   "cell_type": "markdown",
   "id": "ad9cf5d9",
   "metadata": {},
   "source": [
    "<img src='EventGraph Driver.png' width=500/>"
   ]
  },
  {
   "cell_type": "code",
   "execution_count": 21,
   "id": "c1f9cba3",
   "metadata": {
    "ExecuteTime": {
     "end_time": "2023-04-13T17:28:42.154522Z",
     "start_time": "2023-04-13T17:28:42.146471Z"
    }
   },
   "outputs": [],
   "source": [
    "class Driver:\n",
    "    \n",
    "    def __init__(self, rec, DC):\n",
    "        self.rec = rec\n",
    "        self.DC = DC\n",
    "        self.location = None\n",
    "        self.parcels = None\n",
    "        self.tour = None\n",
    "        self.rec.env.process(self.process())\n",
    "        \n",
    "    # activity\n",
    "    def __drive(self, target):\n",
    "        assert(self.tour[0] == self.location)\n",
    "        while self.location!=target:\n",
    "            d = dist(self.location, self.tour[1])\n",
    "            yield self.rec.env.timeout(d / AVERAGE_SPEED)\n",
    "            self.location = self.tour[1]\n",
    "            self.tour = self.tour[1:]\n",
    "        assert(self.tour[0] == self.location == target)\n",
    "    \n",
    "    def arriveForWork(self):\n",
    "        self.location = self.DC.W\n",
    "        self.parcels = []\n",
    "        self.returns = []\n",
    "        self.tour = [ self.DC.W ]\n",
    "        self.rec.recordDriverBeginsWork()\n",
    "        \n",
    "    def leaveForDelivery(self, tour, parcels):\n",
    "        self.tour, self.parcels = tour, parcels\n",
    "        self.rec.trace(f\"Driver leaves for delivery \" \\\n",
    "                       f\"of {len(parcels):d} parcels\")\n",
    "        \n",
    "    def process(self):\n",
    "        yield self.rec.env.timeout(nextHour(self.rec.env, 18))\n",
    "        while day(self.rec.env.now)<self.rec.days:\n",
    "            self.arriveForWork()\n",
    "            tour, parcels = self.DC.sendForDelivery()\n",
    "            yield self.rec.env.timeout(PREP_TIME_PER_PARCEL*len(parcels))\n",
    "            self.rec.recordTourLength(pathLength(tour))\n",
    "            self.leaveForDelivery(tour, parcels)        \n",
    "            while len(self.parcels)>0:\n",
    "                # drive to customer\n",
    "                custLocation = self.parcels[0].dest\n",
    "                cust = Customer.getCustomer(self.rec, custLocation)\n",
    "                self.rec.trace(\"Driver drives to \"+str(cust))\n",
    "                yield from self.__drive(custLocation)\n",
    "                self.rec.trace(\"Driver arrived at \"+str(cust))\n",
    "                # call at customer\n",
    "                yield from cust.answerDoor()\n",
    "                \n",
    "                if cust.answersDoor:\n",
    "                    while len(self.parcels)>0 and \\\n",
    "                            custLocation == self.parcels[0].dest:\n",
    "                        cust.acceptParcel(self.parcels[0])\n",
    "                        yield self.rec.env.timeout(random.expovariate(1/10))\n",
    "                        self.parcels = self.parcels[1:]\n",
    "                    cust.signOff()\n",
    "                    yield self.rec.env.timeout(random.expovariate(1/10))\n",
    "                else:\n",
    "                    while len(self.parcels)>0 and  \\\n",
    "                            custLocation == self.parcels[0].dest:\n",
    "                        self.returns += self.parcels[0]\n",
    "                        self.parcels = self.parcels[1:]\n",
    "\n",
    "            # return to delivery centre\n",
    "            self.rec.trace(\"Driver returns to delivery centre\")\n",
    "            yield from self.__drive(self.DC.W)\n",
    "            self.rec.trace(\"Driver arrived at delivery centre\")\n",
    "            \n",
    "            for parcel in self.returns:\n",
    "                self.DC.returnFromDelivery(parcel)\n",
    "                yield self.rec.env.timeout(RETURN_TIME_PER_PARCEL)\n",
    "            yield self.rec.env.timeout(600)\n",
    "                    \n",
    "            self.rec.recordParcelsLeftOver(len(self.DC.parcels)+\n",
    "                                           len(self.DC.leftOver))\n",
    "\n",
    "            self.rec.recordDriverEndsWork()\n",
    "            \n",
    "            self.rec.trace(self.DC.inventory())\n",
    "            \n",
    "            yield self.rec.env.timeout(nextHour(self.rec.env, 18))"
   ]
  },
  {
   "cell_type": "markdown",
   "id": "1040e477",
   "metadata": {},
   "source": [
    "# Class Delivery Centre"
   ]
  },
  {
   "cell_type": "markdown",
   "id": "1388e18b",
   "metadata": {},
   "source": [
    "<img src=\"EventGraph Delivery Centre.png\" width=300/>"
   ]
  },
  {
   "cell_type": "code",
   "execution_count": 22,
   "id": "58d2e87e",
   "metadata": {
    "ExecuteTime": {
     "end_time": "2023-04-13T17:28:42.161332Z",
     "start_time": "2023-04-13T17:28:42.155561Z"
    }
   },
   "outputs": [],
   "source": [
    "class DeliveryCentre:\n",
    "    \n",
    "    def __init__(self, rec, M, W):\n",
    "        self.rec = rec\n",
    "        self.M = M\n",
    "        self.W = W\n",
    "        self.limit = 40000\n",
    "        \n",
    "        \n",
    "        self.leftOver = []    # list of parcels\n",
    "        self.parcels = []     # list of parcels scheduled for delivery\n",
    "        self.dest = []        # list of unique customer destinations\n",
    "        self.tour = [W]       # tour planned for delivery\n",
    "        \n",
    "    def __accept(self, parcel):\n",
    "        custLoc = parcel.dest\n",
    "        if custLoc not in self.dest:\n",
    "            start_time = time.time()\n",
    "            MT = addTargets(self.M, self.dest + [custLoc])\n",
    "            self.rec.timer(\"addTarget\")\n",
    "            S = createLoop(MT, [self.W] + self.dest + [custLoc])\n",
    "            self.rec.timer(\"createLoop\")\n",
    "            if pathLength(S)<self.limit:\n",
    "                self.parcels.append(parcel)\n",
    "                self.dest += [custLoc]\n",
    "                self.tour = S\n",
    "            else:\n",
    "                self.leftOver.append(parcel)\n",
    "        else:\n",
    "            self.parcels.append(parcel)\n",
    "        \n",
    "    def acceptParcel(self, parcel):\n",
    "        parcel.arrivedAtDeliveryCentre()\n",
    "        self.__accept(parcel)\n",
    "            \n",
    "    def sendForDelivery(self):\n",
    "        parcels = []\n",
    "        tour = self.tour\n",
    "        addresses = self.dest\n",
    "        \n",
    "        # pick parcels in sequence to be delivered\n",
    "        for i in range(1, len(tour)-1):\n",
    "            dest = tour[i]\n",
    "            for p in self.parcels:\n",
    "                if p.dest == dest and p not in parcels:\n",
    "                    parcels += [p]\n",
    "                    p.outForDelivery()\n",
    "         \n",
    "        # arrange the left overs\n",
    "        L = self.leftOver\n",
    "        self.tour = [self.W]\n",
    "        self.parcels = []\n",
    "        self.leftOver = []\n",
    "        self.dest = []\n",
    "        for p in L:\n",
    "            self.__accept(p)\n",
    "        \n",
    "        if self.rec.plot:\n",
    "            plotMap(self.rec.M, T=addresses, P=tour, W=tour[0], \n",
    "                    text=f\"Day {day(self.rec.env.now):2d}, {pathLength(tour):,d}m\")\n",
    "\n",
    "        return tour, parcels\n",
    "                 \n",
    "    def returnFromDelivery(self, parcel):\n",
    "        parcel.returnFromDelivery()\n",
    "        self.__accept(parcel)\n",
    "\n",
    "    def getInventory(self):\n",
    "        acc = \"\"\n",
    "        for p in self.parcels:\n",
    "            if len(acc)>0:\n",
    "                acc += \", \"\n",
    "            acc += f\"{p.custIndex:d}\"\n",
    "        acc += \" / \"\n",
    "        for p in self.leftOver:\n",
    "            if len(acc)>0:\n",
    "                acc += \", \"\n",
    "            acc += f\"{p.custIndex:d}\"\n",
    "        return acc\n",
    "        \n",
    "    def inventory(self):\n",
    "        return f\"Delivery Centre Inventory: \" \\\n",
    "               f\"{len(self.parcels)+len(self.leftOver):d}\""
   ]
  },
  {
   "cell_type": "markdown",
   "id": "f8dc172b",
   "metadata": {},
   "source": [
    "# Simulation"
   ]
  },
  {
   "cell_type": "markdown",
   "id": "24d87bfc",
   "metadata": {},
   "source": [
    "## Parameters from Specification"
   ]
  },
  {
   "cell_type": "markdown",
   "id": "68c84750",
   "metadata": {},
   "source": [
    "The time required for driving is based on the distance between way points at an average speed of 15km/h."
   ]
  },
  {
   "cell_type": "code",
   "execution_count": 23,
   "id": "914c1813",
   "metadata": {
    "ExecuteTime": {
     "end_time": "2023-04-13T17:28:42.165878Z",
     "start_time": "2023-04-13T17:28:42.162761Z"
    }
   },
   "outputs": [],
   "source": [
    "AVERAGE_SPEED = 15/3.6"
   ]
  },
  {
   "cell_type": "markdown",
   "id": "be2c23f9",
   "metadata": {},
   "source": [
    "The **cumulative preparation time** (route planning and \n",
    "sorting of the parcels in the delivery order and \n",
    "packing the cargo-bike) is assumed to be 50 sec per \n",
    "parcel to be delivered."
   ]
  },
  {
   "cell_type": "code",
   "execution_count": 24,
   "id": "bddf98a2",
   "metadata": {
    "ExecuteTime": {
     "end_time": "2023-04-13T17:28:42.169190Z",
     "start_time": "2023-04-13T17:28:42.167100Z"
    }
   },
   "outputs": [],
   "source": [
    "PREP_TIME_PER_PARCEL = 50"
   ]
  },
  {
   "cell_type": "markdown",
   "id": "4a9e228c",
   "metadata": {},
   "source": [
    "**Additional assumption:** The time to **process returned parcels** in the delivery centre is 30 sec per parce. "
   ]
  },
  {
   "cell_type": "code",
   "execution_count": 25,
   "id": "8dac0569",
   "metadata": {
    "ExecuteTime": {
     "end_time": "2023-04-13T17:28:42.173347Z",
     "start_time": "2023-04-13T17:28:42.170228Z"
    }
   },
   "outputs": [],
   "source": [
    "RETURN_TIME_PER_PARCEL = 30"
   ]
  },
  {
   "cell_type": "markdown",
   "id": "1eee375c",
   "metadata": {},
   "source": [
    "The average time to answer the door."
   ]
  },
  {
   "cell_type": "code",
   "execution_count": 26,
   "id": "b7433892",
   "metadata": {
    "ExecuteTime": {
     "end_time": "2023-04-13T17:28:42.181666Z",
     "start_time": "2023-04-13T17:28:42.174612Z"
    }
   },
   "outputs": [],
   "source": [
    "AVERAGE_TIME_ANSWER_DOOR = 40"
   ]
  },
  {
   "cell_type": "code",
   "execution_count": 27,
   "id": "3486f578",
   "metadata": {
    "ExecuteTime": {
     "end_time": "2023-04-13T17:28:42.185290Z",
     "start_time": "2023-04-13T17:28:42.183011Z"
    }
   },
   "outputs": [],
   "source": [
    "WAIT_TIME_IF_CUSTOMER_DOESNT_ANSWER_DOOR = 60"
   ]
  },
  {
   "cell_type": "markdown",
   "id": "3b59ca97",
   "metadata": {},
   "source": [
    "## Generate Input Data"
   ]
  },
  {
   "cell_type": "code",
   "execution_count": 28,
   "id": "43da2e03-01ab-4ef7-a526-e251d6fdc0cb",
   "metadata": {},
   "outputs": [],
   "source": [
    "def generateDeliveryData(p, C, days, seed=4144):\n",
    "    ## p is the average number of parcels per day per customer\n",
    "    ## C is the number of customers to be served\n",
    "    ## days is the number of days for which data are to be generated.\n",
    "    np.random.seed(seed)\n",
    "    R = np.random.poisson(lam=len(C)*p, size=days)\n",
    "    D = [ sorted(list(np.random.choice(range(len(C)), size=i))) for i in R ]\n",
    "    return D"
   ]
  },
  {
   "cell_type": "code",
   "execution_count": 29,
   "id": "986eee44",
   "metadata": {
    "ExecuteTime": {
     "end_time": "2023-04-13T17:28:42.191335Z",
     "start_time": "2023-04-13T17:28:42.186382Z"
    }
   },
   "outputs": [],
   "source": [
    "def generateInputData(D, log=False):\n",
    "\n",
    "    R = [ len(d) for d in D ]\n",
    "    N = sum(R)\n",
    "    \n",
    "    DAY_LENGTH = 24*3600    # measured in minutes\n",
    "    DAY_START = 8*3600      # first delivery in the morning\n",
    "    DAY_END = 17*3600     # last delivery during day time\n",
    "\n",
    "    x = pd.DataFrame()\n",
    "\n",
    "    x['iarr'] = [None]*N\n",
    "    x['time'] = [None]*N\n",
    "    x['day'] = [None]*N\n",
    "    x['dest'] = [None]*N\n",
    "\n",
    "    current_day = 0\n",
    "    last_time = 0\n",
    "    i = 0\n",
    "\n",
    "    for d in D: # for each day\n",
    "\n",
    "        if log:\n",
    "            print(\"generating for day: \",current_day, D[current_day])\n",
    "            \n",
    "        time = current_day*DAY_LENGTH + DAY_START \n",
    "\n",
    "        for c in d: # for each customer that should get a \n",
    "\n",
    "            IARR = (DAY_END-DAY_START-2*3600) / len(d)  # estimated average IAT for the current day\n",
    "\n",
    "            iat = random.expovariate(1.0/IARR)\n",
    "            new_time = time + iat\n",
    "\n",
    "            x.at[i, 'iarr'] = round(new_time - last_time,1)\n",
    "            x.at[i, 'time'] = round(new_time - current_day*DAY_LENGTH , 1)\n",
    "            x.at[i, 'day'] = current_day\n",
    "            x.at[i, 'dest'] = c\n",
    "            \n",
    "            i += 1\n",
    "            last_time = time = new_time\n",
    "    \n",
    "        current_day += 1\n",
    "    \n",
    "    return x"
   ]
  },
  {
   "cell_type": "markdown",
   "id": "dcf336c9",
   "metadata": {},
   "source": [
    "## Simulation Routine"
   ]
  },
  {
   "cell_type": "code",
   "execution_count": 30,
   "id": "18a0a837",
   "metadata": {
    "ExecuteTime": {
     "end_time": "2023-04-13T17:28:42.201676Z",
     "start_time": "2023-04-13T17:28:42.197699Z"
    }
   },
   "outputs": [],
   "source": [
    "def simulation(M, W, C, p=0.2, days=10, seed=4144, \n",
    "               title=None, log=False, plot=False, timing=False):\n",
    "\n",
    "    if timing:\n",
    "        start_time = time.time()\n",
    "        \n",
    "    random.seed(seed)\n",
    "    D = generateDeliveryData(p, C, days, seed)\n",
    "    X = generateInputData(D, log=log)\n",
    "    \n",
    "    env = simpy.Environment()\n",
    "    rec = Recorder(env, M, W, C, days, log=log, plot=plot, timing=timing)\n",
    "\n",
    "    if title is not None:\n",
    "        print(title)\n",
    "    else:\n",
    "        print(f\"Simulating delivery of {len(X):d} parcels \"\n",
    "              f\"over {len(D):d} days to {len(C):d} customers\")\n",
    "\n",
    "    for c in C:\n",
    "        Customer.getCustomer(rec, c)           \n",
    "    DC = DeliveryCentre(rec, M, W)\n",
    "    D = Driver(rec, DC)\n",
    "\n",
    "    def generatorProcess(env):\n",
    "        # generate the parcels based on input data x\n",
    "        for i in range(len(X)):\n",
    "            yield env.timeout(X.at[i, 'iarr'])\n",
    "            custIndex = X.at[i, 'dest']\n",
    "            custLoc = C[custIndex]\n",
    "            cust = Customer.getCustomer(rec, custLoc)\n",
    "            p = Parcel.getParcel(rec, i, cust, custIndex)\n",
    "            DC.acceptParcel(p)\n",
    "\n",
    "    env.process(generatorProcess(env))\n",
    "    env.run()\n",
    "\n",
    "    if log:\n",
    "        print(DC.inventory())\n",
    "\n",
    "    rec.finish()\n",
    "    return rec"
   ]
  },
  {
   "cell_type": "markdown",
   "id": "7da0eaf6",
   "metadata": {},
   "source": [
    "## Small Simulation Run"
   ]
  },
  {
   "cell_type": "markdown",
   "id": "4b04439f-ee31-45bf-ac71-5190985b1624",
   "metadata": {},
   "source": [
    "# Optimisation"
   ]
  },
  {
   "cell_type": "code",
   "execution_count": 116,
   "id": "87766256-13cd-4a4e-a3d7-9812f4fae724",
   "metadata": {
    "scrolled": true
   },
   "outputs": [],
   "source": [
    "import pickle\n",
    "\n",
    "with open('data.pickled', 'rb') as f:\n",
    "    M, C = pickle.load(f)\n",
    "\n",
    "def generateWarehouseLocations(M, p):\n",
    "\n",
    "    def numberOfEdges(v, E):\n",
    "        count = 0\n",
    "        for e in E:\n",
    "            if e[0]==v or e[1]==v:\n",
    "                count += 1\n",
    "        return count\n",
    "\n",
    "    V, E = M\n",
    "    W = [ v for v in V if numberOfEdges(v, E)>2 ]\n",
    "    return random.sample(W, k=int(round(len(W)*p)))\n",
    "\n",
    "def formatLocation(w):\n",
    "    return f\"({w[0]:4d},{w[1]:4d})\"\n",
    "    \n",
    "def objectiveFunction(w, seed=4144):\n",
    "    random.seed(seed)\n",
    "    title = \"Simulate Delivery from Warehouse \"+formatLocation(w)\n",
    "    rec = simulation(M, w, C, p=0.15, days=2, title=title, log= True,plot= True)\n",
    "    filename = \"2_/rec w=\"+formatLocation(w)+\".pickled\"\n",
    "    with open(filename, 'wb') as f:\n",
    "            pickle.dump(rec, f)\n",
    "    return rec.statsTourLength()[0] # mean tour length\n",
    "\n",
    "def monteCarlo(M, p):\n",
    "\n",
    "    W = generateWarehouseLocations(M, p)\n",
    "    plotMap(M, T=W, styleT='bo', msT=7, \n",
    "            text=\"Warehouse Candidate Positions\")\n",
    "\n",
    "    minW, minP = None, math.inf\n",
    "    for w in W:\n",
    "        f = objectiveFunction(w)\n",
    "        if f < minP:\n",
    "            print(f\"  improved position:   {formatLocation(w):s} f={f:7.2f}\")\n",
    "            minW, minP = [w], f\n",
    "        elif f == minP:\n",
    "            print(f\"  equivalent position: {formatLocation(w):s} f={f:7.2f}\")\n",
    "            minW.append(w)\n",
    "            \n",
    "    return minW\n",
    "\n",
    "random.seed(4144)\n",
    "W = monteCarlo(M, 0.28)\n",
    "plotMap(M, T=W, styleT='bo', msT=7, text='Best Warehouse Positions')"
   ]
  },
  {
   "cell_type": "code",
   "execution_count": null,
   "id": "1411dce7",
   "metadata": {},
   "outputs": [],
   "source": [
    "W1 = [((4000,1760))]"
   ]
  },
  {
   "cell_type": "code",
   "execution_count": null,
   "id": "d4645eb5-4b8e-41b2-a837-8e1ad006062a",
   "metadata": {},
   "outputs": [],
   "source": [
    "plotMap(M, T=W1, styleT='bo', msT=7, text='Best Warehouse Positions')"
   ]
  },
  {
   "cell_type": "code",
   "execution_count": null,
   "id": "afa4a618",
   "metadata": {},
   "outputs": [],
   "source": [
    "import pickle\n",
    "with open('_/W.pickled', 'wb') as f:\n",
    "    pickle.dump(W, f)"
   ]
  },
  {
   "cell_type": "markdown",
   "id": "c3fce074",
   "metadata": {},
   "source": [
    "# Optimization for 10 days"
   ]
  },
  {
   "cell_type": "code",
   "execution_count": 115,
   "id": "2cb5b325",
   "metadata": {
    "scrolled": false
   },
   "outputs": [],
   "source": [
    "import pickle\n",
    "\n",
    "with open('data.pickled', 'rb') as f:\n",
    "    M, C = pickle.load(f)\n",
    "\n",
    "def generateWarehouseLocations(M, p):\n",
    "    \n",
    "    random.seed(4144)\n",
    "    V, _ = M\n",
    "    W = random.sample(V, k=len(V)//10)\n",
    "    return W\n",
    "\n",
    "#     def numberOfEdges(v, E):\n",
    "#         count = 0\n",
    "#         for e in E:\n",
    "#             if e[0]==v or e[1]==v:\n",
    "#                 count += 1\n",
    "#         return count\n",
    "\n",
    "#     V, E = M\n",
    "#     W = [ v for v in V if numberOfEdges(v, E)>2 ]\n",
    "#     return random.sample(W, k=int(round(len(W)*p)))\n",
    "\n",
    "def formatLocation(w):\n",
    "    return f\"({w[0]:4d},{w[1]:4d})\"\n",
    "    \n",
    "def objectiveFunction(w, seed=4144):\n",
    "    random.seed(seed)\n",
    "    title = \"Simulate Delivery from Warehouse \"+formatLocation(w)\n",
    "    rec = simulation(M, w, C, p=0.15, days=10, title=title)\n",
    "    filename = \"_/rec w=\"+formatLocation(w)+\".pickled\"\n",
    "    with open(filename, 'wb') as f:\n",
    "            pickle.dump(rec, f)\n",
    "    return rec.statsTourLength()[0] # mean tour length\n",
    "\n",
    "def monteCarlo(M, p):\n",
    "\n",
    "    W = generateWarehouseLocations(M, p)\n",
    "    plotMap(M, T=W, styleT='bo', msT=7, \n",
    "            text=\"Warehouse Candidate Positions\")\n",
    "\n",
    "    minW, minP = None, math.inf\n",
    "    for w in W:\n",
    "        f = objectiveFunction(w)\n",
    "        if f < minP:\n",
    "            print(f\"  improved position:   {formatLocation(w):s} f={f:7.2f}\")\n",
    "            minW, minP = [w], f\n",
    "        elif f == minP:\n",
    "            print(f\"  equivalent position: {formatLocation(w):s} f={f:7.2f}\")\n",
    "            minW.append(w)\n",
    "            \n",
    "    return minW\n",
    "\n",
    "random.seed(4144)\n",
    "W1 = monteCarlo(M, 0.28)\n",
    "plotMap(M, T=W1, styleT='bo', msT=7, text='Best Warehouse Positions')"
   ]
  },
  {
   "cell_type": "code",
   "execution_count": null,
   "id": "178f77a6",
   "metadata": {},
   "outputs": [],
   "source": []
  },
  {
   "cell_type": "code",
   "execution_count": null,
   "id": "08fd1fe4",
   "metadata": {},
   "outputs": [],
   "source": [
    "import pickle\n",
    "import datetime\n",
    "\n",
    "with open('data.pickled', 'rb') as f:\n",
    "    M, C = pickle.load(f)\n",
    "\n",
    "def generateWarehouseLocations(M):\n",
    "    \n",
    "    random.seed(4144)\n",
    "    V, _ = M\n",
    "    W = random.sample(V, k=len(V)//10)\n",
    "    return W\n",
    "\n",
    "#     def numberOfEdges(v, E):\n",
    "#         count = 0\n",
    "#         for e in E:\n",
    "#             if e[0]==v or e[1]==v:\n",
    "#                 count += 1\n",
    "#         return count\n",
    "\n",
    "#     V, E = M\n",
    "#     W = [ v for v in V if numberOfEdges(v, E)>2 ]\n",
    "#     return random.sample(W, k=int(round(len(W)*p)))\n",
    "\n",
    "def formatLocation(w):\n",
    "    return f\"({w[0]:4d},{w[1]:4d})\"\n",
    "    \n",
    "def objectiveFunction(w, seed=4144):\n",
    "    random.seed(seed)\n",
    "    title = \"Simulate Delivery from Warehouse \"+formatLocation(w)\n",
    "    rec = simulation(M, w, C, p=0.15, days=30, title=title)\n",
    "    filename = \"100C_10W/rec w=\"+formatLocation(w)+\".pickled\"\n",
    "    with open(filename, 'wb') as f:\n",
    "            pickle.dump(rec, f)\n",
    "    return rec.statsTourLength()[0] # mean tour length\n",
    "\n",
    "def monteCarlo(M):\n",
    "\n",
    "    W = generateWarehouseLocations(M)\n",
    "    plotMap(M, T=W, styleT='bo', msT=7, \n",
    "            text=\"Warehouse Candidate Positions\")\n",
    "\n",
    "    for w in W:\n",
    "        f = objectiveFunction(w)\n",
    "            \n",
    "\n",
    "random.seed(4144)\n",
    "monteCarlo(M)"
   ]
  },
  {
   "cell_type": "code",
   "execution_count": null,
   "id": "9e19195e",
   "metadata": {},
   "outputs": [],
   "source": [
    "import pickle\n",
    "\n",
    "with open('data.pickled', 'rb') as f:\n",
    "    M, C = pickle.load(f)\n",
    "V,E = M\n",
    "plotMap((V, E), T=C)\n"
   ]
  },
  {
   "cell_type": "code",
   "execution_count": null,
   "id": "f2122d6f",
   "metadata": {},
   "outputs": [],
   "source": [
    "import pickle\n",
    "\n",
    "with open('REC/rec w=( 640,5120).pickled', 'rb') as f:\n",
    "    rec = pickle.load(f)"
   ]
  },
  {
   "cell_type": "code",
   "execution_count": null,
   "id": "d7d6c8b2",
   "metadata": {},
   "outputs": [],
   "source": [
    "type(rec)"
   ]
  },
  {
   "cell_type": "code",
   "execution_count": null,
   "id": "5e973c7e",
   "metadata": {},
   "outputs": [],
   "source": [
    "rec.daily['dist']"
   ]
  },
  {
   "cell_type": "code",
   "execution_count": null,
   "id": "6e113baf",
   "metadata": {},
   "outputs": [],
   "source": [
    "rec.daily['left']"
   ]
  },
  {
   "cell_type": "code",
   "execution_count": null,
   "id": "8f1df4d4",
   "metadata": {},
   "outputs": [],
   "source": [
    "rec.daily['left']"
   ]
  },
  {
   "cell_type": "code",
   "execution_count": null,
   "id": "08de7121",
   "metadata": {},
   "outputs": [],
   "source": [
    "rec.daily['working time']"
   ]
  },
  {
   "cell_type": "code",
   "execution_count": null,
   "id": "8a6d9322",
   "metadata": {},
   "outputs": [],
   "source": [
    "rec.histWorkingTime()\n",
    "rec.plotWorkingTime()"
   ]
  },
  {
   "cell_type": "code",
   "execution_count": null,
   "id": "4c9c78e5",
   "metadata": {},
   "outputs": [],
   "source": [
    "rec.reportTimer()"
   ]
  },
  {
   "cell_type": "code",
   "execution_count": null,
   "id": "34c7f3b8",
   "metadata": {},
   "outputs": [],
   "source": [
    "import os\n",
    "\n",
    "def print_files_in_directory(directory):\n",
    "    for root, dirs, files in os.walk(directory):\n",
    "        for file in files:\n",
    "            rec = pickle.load(file)\n",
    "\n",
    "# Replace 'directory_path' with the path of the directory you want to search\n",
    "directory_path = 'REC/'\n",
    "print_files_in_directory(directory_path)\n"
   ]
  },
  {
   "cell_type": "code",
   "execution_count": null,
   "id": "ede298a3",
   "metadata": {},
   "outputs": [],
   "source": [
    "import os\n",
    "import pandas as pd\n",
    "import pickle\n",
    "\n",
    "df = pd.DataFrame()\n",
    "\n",
    "for root, dirs, files in os.walk(\"REC/\"):\n",
    "    for file in files:\n",
    "        with open(os.path.join(root, file), 'rb') as f:\n",
    "            rec = pickle.load(f)\n",
    "        df['working time'] = rec.daily['working time']\n",
    "        df['left'] = rec.daily['left']\n",
    "        df['dist'] = rec.daily['dist']\n",
    "\n",
    "\n",
    "\n",
    "def load_data_from_pickle(df, directory):\n",
    "    for root, dirs, files in os.walk(directory):\n",
    "        for file in files:\n",
    "            with open(os.path.join(root, file), 'rb') as f:\n",
    "                rec = pickle.load(f)\n",
    "                df['working time'] = rec.daily['working time']\n",
    "                df['left'] = rec.daily['left']\n",
    "                df['dist'] = rec.daily['dist']\n",
    "            \n",
    "\n",
    "#  Replace 'directory_path' with the path of the directory containing the pickle files\n",
    "directory_path = \"REC/\"\n",
    "\n",
    "load_data_from_pickle(df, directory_path)\n",
    "\n",
    "\n",
    "# # Convert the list of dictionaries into a pandas DataFrame\n",
    "# df = pd.DataFrame(pickle_data)\n",
    "\n",
    "# Now df contains all the data from the pickle files in a pandas DataFrame\n"
   ]
  },
  {
   "cell_type": "markdown",
   "id": "cf2f968e",
   "metadata": {},
   "source": [
    "# Functions to load \"rec\" data"
   ]
  },
  {
   "cell_type": "code",
   "execution_count": 39,
   "id": "98897814",
   "metadata": {},
   "outputs": [],
   "source": [
    "import os\n",
    "import pandas as pd\n",
    "import pickle\n",
    "\n",
    "def load_rec_data(directory):\n",
    "    # Initialize an empty list to store DataFrame objects\n",
    "    dfs = []\n",
    "\n",
    "    for root, dirs, files in os.walk(directory):\n",
    "        for file in files:\n",
    "            with open(os.path.join(root, file), 'rb') as f:\n",
    "                rec = pickle.load(f)\n",
    "\n",
    "\n",
    "            # Create a new DataFrame for each file\n",
    "            temp_df = pd.DataFrame({\n",
    "                'working time': rec.daily['working time'],\n",
    "                'left': rec.daily['left'],\n",
    "                'dist': rec.daily['dist']\n",
    "            })\n",
    "            temp_df['working time hours'] = temp_df['working time'] / 60\n",
    "            # Calculate working time cost\n",
    "            temp_df['working time cost'] = temp_df['working time hours'].apply(lambda x: max(60, x * 30))\n",
    "            # Convert distance from meters to kilometers\n",
    "            temp_df['dist km'] = temp_df['dist'] / 1000\n",
    "            # Calculate distance cost\n",
    "            temp_df['dist cost'] = temp_df['dist km'] * 0.08\n",
    "            # Calculate total cost\n",
    "            temp_df['total cost'] = temp_df['working time cost'] + temp_df['dist cost']\n",
    "\n",
    "\n",
    "            # Append the DataFrame to the list\n",
    "            dfs.append(temp_df)\n",
    "\n",
    "    # Concatenate all DataFrames in the list into one DataFrame\n",
    "    df = pd.concat(dfs, ignore_index=True)\n",
    "    return dfs"
   ]
  },
  {
   "cell_type": "markdown",
   "id": "32c890e1",
   "metadata": {},
   "source": [
    "# Functions to Caculate One Way Anova"
   ]
  },
  {
   "cell_type": "code",
   "execution_count": 40,
   "id": "656c76d8",
   "metadata": {},
   "outputs": [],
   "source": [
    "from scipy.stats import f_oneway\n",
    "def anova_cal_9(dfs):    \n",
    "    f_statistic, p_value = f_oneway(dfs[0][\"total cost\"], dfs[1][\"total cost\"], dfs[2][\"total cost\"], dfs[3][\"total cost\"],\n",
    "        dfs[4][\"total cost\"], dfs[5][\"total cost\"], dfs[6][\"total cost\"], dfs[7][\"total cost\"],\n",
    "        dfs[8][\"total cost\"])\n",
    "    return f_statistic, p_value\n",
    "\n",
    "def anova_cal_10(dfs):    \n",
    "    f_statistic, p_value = f_oneway(dfs[0][\"total cost\"], dfs[1][\"total cost\"], dfs[2][\"total cost\"], dfs[3][\"total cost\"],\n",
    "        dfs[4][\"total cost\"], dfs[5][\"total cost\"], dfs[6][\"total cost\"], dfs[7][\"total cost\"],\n",
    "        dfs[8][\"total cost\"], dfs[9][\"total cost\"])\n",
    "    return f_statistic, p_value\n",
    "    \n",
    "def anova_cal_19(dfs):\n",
    "    f_statistic, p_value = f_oneway(dfs[0][\"total cost\"], dfs[1][\"total cost\"], dfs[2][\"total cost\"], dfs[3][\"total cost\"],\n",
    "        dfs[4][\"total cost\"], dfs[5][\"total cost\"], dfs[6][\"total cost\"], dfs[7][\"total cost\"],\n",
    "        dfs[8][\"total cost\"], dfs[9][\"total cost\"], dfs[10][\"total cost\"], dfs[11][\"total cost\"],\n",
    "        dfs[12][\"total cost\"], dfs[13][\"total cost\"], dfs[14][\"total cost\"], dfs[15][\"total cost\"],\n",
    "        dfs[16][\"total cost\"], dfs[17][\"total cost\"], dfs[18][\"total cost\"])\n",
    "    \n",
    "    return f_statistic, p_value\n",
    "\n",
    "def anova_cal_20(dfs):\n",
    "    f_statistic, p_value = f_oneway(dfs[0][\"total cost\"], dfs[1][\"total cost\"], dfs[2][\"total cost\"], dfs[3][\"total cost\"],\n",
    "        dfs[4][\"total cost\"], dfs[5][\"total cost\"], dfs[6][\"total cost\"], dfs[7][\"total cost\"],\n",
    "        dfs[8][\"total cost\"], dfs[9][\"total cost\"], dfs[10][\"total cost\"], dfs[11][\"total cost\"],\n",
    "        dfs[12][\"total cost\"], dfs[13][\"total cost\"], dfs[14][\"total cost\"], dfs[15][\"total cost\"],\n",
    "        dfs[16][\"total cost\"], dfs[17][\"total cost\"], dfs[18][\"total cost\"], dfs[19]['total cost'])\n",
    "    \n",
    "    return f_statistic, p_value\n",
    "\n",
    "def stats_sig(p_value):\n",
    "    alpha = 0.05\n",
    "    if p_value <= alpha:\n",
    "        print(\"The p-value is statistically significant. Reject the null hypothesis.\")\n",
    "    else:\n",
    "        print(\"The p-value is not statistically significant. Fail to reject the null hypothesis.\")"
   ]
  },
  {
   "cell_type": "code",
   "execution_count": null,
   "id": "494fe150",
   "metadata": {},
   "outputs": [],
   "source": [
    "import os\n",
    "import pandas as pd\n",
    "import pickle\n",
    "\n",
    "# Initialize an empty list to store DataFrame objects\n",
    "dfs = []\n",
    "\n",
    "for root, dirs, files in os.walk(\"100Cust/\"):\n",
    "    for file in files:\n",
    "        with open(os.path.join(root, file), 'rb') as f:\n",
    "            rec = pickle.load(f)\n",
    "\n",
    "        \n",
    "        # Create a new DataFrame for each file\n",
    "        temp_df = pd.DataFrame({\n",
    "            'working time': rec.daily['working time'],\n",
    "            'left': rec.daily['left'],\n",
    "            'dist': rec.daily['dist']\n",
    "        })\n",
    "        temp_df['working time hours'] = temp_df['working time'] / 60\n",
    "        # Calculate working time cost\n",
    "        temp_df['working time cost'] = temp_df['working time hours'].apply(lambda x: max(60, x * 30))\n",
    "        # Convert distance from meters to kilometers\n",
    "        temp_df['dist km'] = temp_df['dist'] / 1000\n",
    "        # Calculate distance cost\n",
    "        temp_df['dist cost'] = temp_df['dist km'] * 0.08\n",
    "        # Calculate total cost\n",
    "        temp_df['total cost'] = temp_df['working time cost'] + temp_df['dist cost']\n",
    "\n",
    "\n",
    "        # Append the DataFrame to the list\n",
    "        dfs.append(temp_df)\n",
    "\n",
    "# Concatenate all DataFrames in the list into one DataFrame\n",
    "df = pd.concat(dfs, ignore_index=True)"
   ]
  },
  {
   "cell_type": "code",
   "execution_count": null,
   "id": "89e2fa08",
   "metadata": {},
   "outputs": [],
   "source": [
    "df_1 = dfs[0] \n",
    "df_2 = dfs[1] \n",
    "df_3 = dfs[2]\n",
    "df_4 = dfs[3]\n",
    "df_5 = dfs[4]\n",
    "df_6 = dfs[5]\n",
    "df_7 = dfs[6]\n",
    "df_8 = dfs[7]\n",
    "df_9 = dfs[8]\n",
    "df_10 = dfs[9]\n",
    "df_11 = dfs[10]\n",
    "df_12 = dfs[11]\n",
    "df_13 = dfs[12]\n",
    "df_14 = dfs[13]\n",
    "df_15 = dfs[14]\n",
    "df_16 = dfs[15]\n",
    "df_17 = dfs[16]\n",
    "df_18 = dfs[17]\n",
    "df_19 = dfs[18]"
   ]
  },
  {
   "cell_type": "code",
   "execution_count": null,
   "id": "c4e12759",
   "metadata": {
    "scrolled": true
   },
   "outputs": [],
   "source": [
    "df"
   ]
  },
  {
   "cell_type": "code",
   "execution_count": null,
   "id": "b2a29a86",
   "metadata": {},
   "outputs": [],
   "source": [
    "df.to_excel(\"output.xlsx\")"
   ]
  },
  {
   "cell_type": "code",
   "execution_count": null,
   "id": "a472d2b4",
   "metadata": {},
   "outputs": [],
   "source": [
    "from scipy.stats import f_oneway\n",
    "f_statistic, p_value = f_oneway(df_1[\"total cost\"], df_2[\"total cost\"], df_3[\"total cost\"], df_4[\"total cost\"],\n",
    "    df_5[\"total cost\"], df_6[\"total cost\"], df_7[\"total cost\"], df_8[\"total cost\"],\n",
    "    df_9[\"total cost\"], df_10[\"total cost\"], df_11[\"total cost\"], df_12[\"total cost\"],\n",
    "    df_13[\"total cost\"], df_14[\"total cost\"], df_15[\"total cost\"], df_16[\"total cost\"],\n",
    "    df_17[\"total cost\"], df_18[\"total cost\"], df_19[\"total cost\"])"
   ]
  },
  {
   "cell_type": "code",
   "execution_count": null,
   "id": "17fe6311",
   "metadata": {},
   "outputs": [],
   "source": [
    "# Printing the results\n",
    "print(\"F-Statistic:\", f_statistic)\n",
    "print(\"P-Value:\", p_value)"
   ]
  },
  {
   "cell_type": "code",
   "execution_count": null,
   "id": "360ddcf0",
   "metadata": {},
   "outputs": [],
   "source": [
    "alpha = 0.05\n",
    "\n",
    "if p_value <= alpha:\n",
    "    print(\"The p-value is statistically significant. Reject the null hypothesis.\")\n",
    "else:\n",
    "    print(\"The p-value is not statistically significant. Fail to reject the null hypothesis.\")\n"
   ]
  },
  {
   "cell_type": "code",
   "execution_count": null,
   "id": "4d5a9175",
   "metadata": {},
   "outputs": [],
   "source": [
    "import pandas as pd\n",
    "\n",
    "# Assuming you have a list of DataFrames called 'list_of_dfs'\n",
    "\n",
    "# Calculate the sum of 'total cost' for each DataFrame\n",
    "sums = [df['total cost'].sum() for df in dfs]\n",
    "\n",
    "# Find the index of the DataFrame with the minimum total sum\n",
    "min_index = sums.index(min(sums))\n",
    "\n",
    "# Get the DataFrame with the minimum total sum\n",
    "min_df = dfs[min_index]\n",
    "\n",
    "# Display the DataFrame with the minimum total sum\n",
    "print(\"DataFrame with minimum total cost sum:\")\n",
    "print(min_df)\n"
   ]
  },
  {
   "cell_type": "code",
   "execution_count": null,
   "id": "9ce6cff1",
   "metadata": {},
   "outputs": [],
   "source": [
    "import pandas as pd\n",
    "\n",
    "# Initialize an empty dictionary to store the summed total costs\n",
    "summed_total_costs = {}\n",
    "\n",
    "# Iterate over the list of DataFrames\n",
    "for i, df in enumerate(dfs):\n",
    "    # Sum the values in the \"total cost\" column for the current DataFrame\n",
    "    total_cost_sum = df['total cost'].sum()\n",
    "    \n",
    "    # Store the summed total cost in the dictionary with the DataFrame index as the key\n",
    "    summed_total_costs[f'df_{i}'] = total_cost_sum\n",
    "\n",
    "# Create a new DataFrame from the dictionary\n",
    "summed_df = pd.DataFrame(summed_total_costs.items(), columns=['DataFrame', 'Total Cost'])\n",
    "\n",
    "# Display the new DataFrame\n",
    "print(summed_df)\n"
   ]
  },
  {
   "cell_type": "code",
   "execution_count": 41,
   "id": "910bc117",
   "metadata": {},
   "outputs": [],
   "source": [
    "import pandas as pd\n",
    "\n",
    "def sum_of_cost(dfs):\n",
    "# Initialize an empty dictionary to store the summed total costs\n",
    "    summed_total_costs = {}\n",
    "\n",
    "    # Iterate over the list of DataFrames\n",
    "    for i in range(len(dfs)):\n",
    "        # Sum the values in the \"total cost\" column for the current DataFrame\n",
    "        total_cost_sum = dfs[i]['total cost'].sum()\n",
    "\n",
    "        # Store the summed total cost in the dictionary with the DataFrame index as the key\n",
    "        summed_total_costs[f'Warehouse_{i}'] = total_cost_sum\n",
    "\n",
    "    # Create a new DataFrame from the dictionary\n",
    "    summed_df = pd.DataFrame(summed_total_costs.items(), columns=['DataFrame', 'Total Cost'])\n",
    "\n",
    "    # Display the new DataFrame\n",
    "    return summed_df\n"
   ]
  },
  {
   "cell_type": "code",
   "execution_count": null,
   "id": "e0faae9d",
   "metadata": {},
   "outputs": [],
   "source": [
    "rec.daily['working time']"
   ]
  },
  {
   "cell_type": "code",
   "execution_count": null,
   "id": "efd72096",
   "metadata": {},
   "outputs": [],
   "source": [
    "df_18['working time']"
   ]
  },
  {
   "cell_type": "markdown",
   "id": "38c4653c",
   "metadata": {},
   "source": [
    "# Plots"
   ]
  },
  {
   "cell_type": "code",
   "execution_count": null,
   "id": "174eb451",
   "metadata": {},
   "outputs": [],
   "source": [
    "  def statsWorkingTime(self):\n",
    "        return self.__stats__('working time')\n",
    "        \n",
    "    def histWorkingTime(self):\n",
    "        histplot(self.daily['working time'],\n",
    "                 xlabel='Working Time [min]',\n",
    "                 title='Daily Working Time')\n",
    "        \n",
    "    def plotWorkingTime(self):\n",
    "        dailyPlot(self.daily['working time'],\n",
    "                  ylabel='Working Time [min]',\n",
    "                  title='Daily Working Time')\n",
    "\n",
    "    def statsTourLength(self):\n",
    "        return self.__stats__('dist')\n",
    "        \n",
    "    def histTourLength(self):\n",
    "        histplot(self.daily['dist'],\n",
    "                 xlabel='Tour Length [m]',\n",
    "                 title='Daily Tour Length')\n",
    "            \n",
    "    def plotTourLength(self):\n",
    "        dailyPlot(self.daily['dist'],\n",
    "                  ylabel='Tour Length [m]',\n",
    "                  title='Daily Tour Length')\n",
    "\n",
    "    def statsLeftOver(self):\n",
    "        return self.__stats__('left')\n",
    "        \n",
    "    def histLeftOver(self):\n",
    "        histplot(self.daily['left'],\n",
    "                 xlabel='Left-Over Parcels',\n",
    "                 title='Daily Left-Over Parcels')\n",
    "                \n",
    "    def plotLeftOver(self):\n",
    "        dailyPlot(self.daily['left'],\n",
    "                  ylabel='Number of Parcels',\n",
    "                  title='Daily Left-Over Parcels')"
   ]
  },
  {
   "cell_type": "code",
   "execution_count": null,
   "id": "312016a5",
   "metadata": {},
   "outputs": [],
   "source": [
    "def histWorkingTime(df):\n",
    "    histplot(df['working time'],\n",
    "             xlabel='Working Time [min]',\n",
    "             title='Daily Working Time')\n",
    "    \n",
    "def plotWorkingTime(df):\n",
    "    dailyPlot(df['working time'],\n",
    "              ylabel='Working Time [min]',\n",
    "              title='Daily Working Time')\n",
    "\n",
    "def statsTourLength(df):\n",
    "    return df.__stats__('dist')\n",
    "    \n",
    "def histTourLength(df):\n",
    "    histplot(df['dist'],\n",
    "             xlabel='Tour Length [m]',\n",
    "             title='Daily Tour Length')\n",
    "        \n",
    "def plotTourLength(df):\n",
    "    dailyPlot(df['dist'],\n",
    "              ylabel='Tour Length [m]',\n",
    "              title='Daily Tour Length')\n",
    "\n",
    "def statsLeftOver(df):\n",
    "    return df.__stats__('left')\n",
    "    \n",
    "def histLeftOver(df):\n",
    "    histplot(df['left'],\n",
    "             xlabel='Left-Over Parcels',\n",
    "             title='Daily Left-Over Parcels')\n",
    "            \n",
    "def plotLeftOver(df):\n",
    "    dailyPlot(df['left'],\n",
    "              ylabel='Number of Parcels',\n",
    "              title='Daily Left-Over Parcels')\n"
   ]
  },
  {
   "cell_type": "markdown",
   "id": "5d76fc83",
   "metadata": {},
   "source": [
    "# Plots "
   ]
  },
  {
   "cell_type": "code",
   "execution_count": null,
   "id": "a75b74e4",
   "metadata": {},
   "outputs": [],
   "source": [
    "plotLeftOver(df_18)"
   ]
  },
  {
   "cell_type": "code",
   "execution_count": null,
   "id": "a5522768",
   "metadata": {},
   "outputs": [],
   "source": [
    "plotWorkingTime(df_18)"
   ]
  },
  {
   "cell_type": "code",
   "execution_count": null,
   "id": "0fa9ab95",
   "metadata": {},
   "outputs": [],
   "source": [
    "plotTourLength(df_18)"
   ]
  },
  {
   "cell_type": "code",
   "execution_count": null,
   "id": "069bd0e2",
   "metadata": {},
   "outputs": [],
   "source": []
  },
  {
   "cell_type": "code",
   "execution_count": 45,
   "id": "ec9fe4a7",
   "metadata": {},
   "outputs": [],
   "source": [
    "dfz = []b"
   ]
  },
  {
   "cell_type": "code",
   "execution_count": 50,
   "id": "b917f89f",
   "metadata": {},
   "outputs": [],
   "source": [
    "dfz.append(dfs[18])"
   ]
  },
  {
   "cell_type": "code",
   "execution_count": 51,
   "id": "1c5c422a",
   "metadata": {},
   "outputs": [],
   "source": [
    "f_statistic, p_value = f_oneway(dfz[0][\"total cost\"], dfz[1][\"total cost\"], dfz[2][\"total cost\"])"
   ]
  },
  {
   "cell_type": "code",
   "execution_count": 53,
   "id": "80a87fed",
   "metadata": {},
   "outputs": [
    {
     "name": "stdout",
     "output_type": "stream",
     "text": [
      "The p-value is statistically significant. Reject the null hypothesis.\n"
     ]
    }
   ],
   "source": [
    "stats_sig(p_value)"
   ]
  },
  {
   "cell_type": "markdown",
   "id": "3b1e08e0",
   "metadata": {},
   "source": [
    "# 100 Customer 20 Warehouse 30 Days"
   ]
  },
  {
   "cell_type": "code",
   "execution_count": 69,
   "id": "c9feaf37",
   "metadata": {},
   "outputs": [],
   "source": [
    "dfs = load_rec_data(\"100C_20W/\")"
   ]
  },
  {
   "cell_type": "code",
   "execution_count": 71,
   "id": "3cb5c5ea",
   "metadata": {},
   "outputs": [],
   "source": [
    "dfs[4] = dfs[4].round(2)"
   ]
  },
  {
   "cell_type": "code",
   "execution_count": 73,
   "id": "890024ca",
   "metadata": {},
   "outputs": [],
   "source": [
    "df1 = dfs[4]"
   ]
  },
  {
   "cell_type": "code",
   "execution_count": 74,
   "id": "9b9ce0b5",
   "metadata": {},
   "outputs": [],
   "source": [
    "df1 = df1.round(2)"
   ]
  },
  {
   "cell_type": "code",
   "execution_count": 78,
   "id": "44230cec",
   "metadata": {},
   "outputs": [],
   "source": [
    "df1.to_excel(\"100C_20W.xlsx\")"
   ]
  },
  {
   "cell_type": "code",
   "execution_count": 65,
   "id": "f5151beb",
   "metadata": {},
   "outputs": [
    {
     "data": {
      "text/plain": [
       "19"
      ]
     },
     "execution_count": 65,
     "metadata": {},
     "output_type": "execute_result"
    }
   ],
   "source": [
    "len(dfs)"
   ]
  },
  {
   "cell_type": "code",
   "execution_count": 66,
   "id": "63d35631",
   "metadata": {},
   "outputs": [],
   "source": [
    "_, p_value = anova_cal_19(dfs)"
   ]
  },
  {
   "cell_type": "code",
   "execution_count": 67,
   "id": "04e841a2",
   "metadata": {},
   "outputs": [
    {
     "name": "stdout",
     "output_type": "stream",
     "text": [
      "The p-value is not statistically significant. Fail to reject the null hypothesis.\n"
     ]
    }
   ],
   "source": [
    "stats_sig(p_value)"
   ]
  },
  {
   "cell_type": "markdown",
   "id": "620f1d1c",
   "metadata": {},
   "source": [
    "- Plots"
   ]
  },
  {
   "cell_type": "code",
   "execution_count": 68,
   "id": "01a3dc90",
   "metadata": {},
   "outputs": [
    {
     "name": "stdout",
     "output_type": "stream",
     "text": [
      "       DataFrame  Total Cost\n",
      "0    Warehouse_0  2194.59920\n",
      "1    Warehouse_1  2208.81744\n",
      "2    Warehouse_2  2175.30080\n",
      "3    Warehouse_3  2161.76512\n",
      "4    Warehouse_4  2148.16552\n",
      "5    Warehouse_5  2152.46464\n",
      "6    Warehouse_6  2154.65696\n",
      "7    Warehouse_7  2185.85904\n",
      "8    Warehouse_8  2169.64472\n",
      "9    Warehouse_9  2161.93160\n",
      "10  Warehouse_10  2171.58680\n",
      "11  Warehouse_11  2151.23560\n",
      "12  Warehouse_12  2155.14408\n",
      "13  Warehouse_13  2177.30608\n",
      "14  Warehouse_14  2163.77056\n",
      "15  Warehouse_15  2188.35936\n",
      "16  Warehouse_16  2227.59648\n",
      "17  Warehouse_17  2199.23536\n",
      "18  Warehouse_18  2182.76568\n",
      "2148.17\n"
     ]
    }
   ],
   "source": [
    "cost = sum_of_cost(dfs)\n",
    "print(cost)\n",
    "minw = cost['Total Cost'].min().round(2)\n",
    "print(minw)"
   ]
  },
  {
   "cell_type": "code",
   "execution_count": null,
   "id": "cf3da9bc",
   "metadata": {},
   "outputs": [],
   "source": [
    "histWorkingTime(dfs[4])"
   ]
  },
  {
   "cell_type": "code",
   "execution_count": null,
   "id": "2c23845a",
   "metadata": {},
   "outputs": [],
   "source": [
    "plotWorkingTime(dfs[4])"
   ]
  },
  {
   "cell_type": "code",
   "execution_count": null,
   "id": "b10332d6",
   "metadata": {},
   "outputs": [],
   "source": [
    "plotTourLength(dfs[4])"
   ]
  },
  {
   "cell_type": "code",
   "execution_count": null,
   "id": "2b02a8c9",
   "metadata": {},
   "outputs": [],
   "source": [
    "plotLeftOver(dfs[4])"
   ]
  },
  {
   "cell_type": "markdown",
   "id": "4d96e656",
   "metadata": {},
   "source": [
    "# Path Based"
   ]
  },
  {
   "cell_type": "code",
   "execution_count": 102,
   "id": "f81e123a",
   "metadata": {},
   "outputs": [
    {
     "data": {
      "image/png": "[encoded data removed]",
      "text/plain": [
       "<Figure size 600x600 with 1 Axes>"
      ]
     },
     "metadata": {},
     "output_type": "display_data"
    }
   ],
   "source": [
    "plotWi((1200,4560), \"Best Warehouse (Path Based)\")"
   ]
  },
  {
   "cell_type": "markdown",
   "id": "aff4ff53",
   "metadata": {},
   "source": [
    "# Cost Based"
   ]
  },
  {
   "cell_type": "code",
   "execution_count": 88,
   "id": "d306d392",
   "metadata": {},
   "outputs": [
    {
     "data": {
      "image/png": "[encoded data removed]",
      "text/plain": [
       "<Figure size 600x600 with 1 Axes>"
      ]
     },
     "metadata": {},
     "output_type": "display_data"
    }
   ],
   "source": [
    "plotWi((1760,3440), \"Best Warehouse (Cost Based)\")\n"
   ]
  },
  {
   "cell_type": "markdown",
   "id": "91d50ed6",
   "metadata": {},
   "source": [
    "# 100 Customers 10 Warehouses 30 Days"
   ]
  },
  {
   "cell_type": "code",
   "execution_count": 105,
   "id": "571b9205",
   "metadata": {},
   "outputs": [],
   "source": [
    "dfs = load_rec_data(\"100C_10W/\")"
   ]
  },
  {
   "cell_type": "code",
   "execution_count": 59,
   "id": "753c8831",
   "metadata": {},
   "outputs": [],
   "source": [
    "_, p_value = anova_cal_10(dfs)"
   ]
  },
  {
   "cell_type": "code",
   "execution_count": 60,
   "id": "08843732",
   "metadata": {},
   "outputs": [
    {
     "data": {
      "text/plain": [
       "0.8977377057483977"
      ]
     },
     "execution_count": 60,
     "metadata": {},
     "output_type": "execute_result"
    }
   ],
   "source": [
    "p_value"
   ]
  },
  {
   "cell_type": "code",
   "execution_count": 61,
   "id": "ea5b2f9e",
   "metadata": {},
   "outputs": [
    {
     "name": "stdout",
     "output_type": "stream",
     "text": [
      "The p-value is not statistically significant. Fail to reject the null hypothesis.\n"
     ]
    }
   ],
   "source": [
    "stats_sig(p_value)"
   ]
  },
  {
   "cell_type": "code",
   "execution_count": 62,
   "id": "b311c2a9",
   "metadata": {},
   "outputs": [
    {
     "data": {
      "text/plain": [
       "2144.41"
      ]
     },
     "execution_count": 62,
     "metadata": {},
     "output_type": "execute_result"
    }
   ],
   "source": [
    "cost = sum_of_cost(dfs)\n",
    "cost['Total Cost'].min().round(2)"
   ]
  },
  {
   "cell_type": "code",
   "execution_count": 63,
   "id": "e105e7b3",
   "metadata": {},
   "outputs": [
    {
     "name": "stdout",
     "output_type": "stream",
     "text": [
      "     DataFrame  Total Cost\n",
      "0  Warehouse_0  2208.81744\n",
      "1  Warehouse_1  2169.20016\n",
      "2  Warehouse_2  2147.16944\n",
      "3  Warehouse_3  2152.46464\n",
      "4  Warehouse_4  2176.10512\n",
      "5  Warehouse_5  2167.25064\n",
      "6  Warehouse_6  2173.14880\n",
      "7  Warehouse_7  2144.40792\n",
      "8  Warehouse_8  2223.26312\n",
      "9  Warehouse_9  2210.00480\n",
      "2144.41\n"
     ]
    }
   ],
   "source": [
    "cost = sum_of_cost(dfs)\n",
    "print(cost)\n",
    "minw = cost['Total Cost'].min().round(2)\n",
    "print(minw)"
   ]
  },
  {
   "cell_type": "code",
   "execution_count": null,
   "id": "2921c9f3",
   "metadata": {},
   "outputs": [],
   "source": [
    "histWorkingTime(dfs[7])"
   ]
  },
  {
   "cell_type": "code",
   "execution_count": null,
   "id": "a0ed86db",
   "metadata": {},
   "outputs": [],
   "source": [
    "plotWorkingTime(dfs[7])"
   ]
  },
  {
   "cell_type": "code",
   "execution_count": null,
   "id": "e1a7360d",
   "metadata": {},
   "outputs": [],
   "source": [
    "plotLeftOver(dfs[7])"
   ]
  },
  {
   "cell_type": "code",
   "execution_count": null,
   "id": "f0c7acb7",
   "metadata": {},
   "outputs": [],
   "source": [
    "plotTourLength(dfs[7])"
   ]
  },
  {
   "cell_type": "code",
   "execution_count": 106,
   "id": "19585b45",
   "metadata": {},
   "outputs": [],
   "source": [
    "dfs[7].to_excel(\"100_10_30.xlsx\")"
   ]
  },
  {
   "cell_type": "markdown",
   "id": "77304e8d",
   "metadata": {},
   "source": [
    "# Path Based"
   ]
  },
  {
   "cell_type": "code",
   "execution_count": 98,
   "id": "d4858745",
   "metadata": {},
   "outputs": [
    {
     "data": {
      "image/png": "[encoded data removed]",
      "text/plain": [
       "<Figure size 600x600 with 1 Axes>"
      ]
     },
     "metadata": {},
     "output_type": "display_data"
    }
   ],
   "source": [
    "plotWi((1760,4560), \"Best Warehouse (Cost Based)\")"
   ]
  },
  {
   "cell_type": "markdown",
   "id": "083f6f8f",
   "metadata": {},
   "source": [
    "# Cost Based"
   ]
  },
  {
   "cell_type": "code",
   "execution_count": 99,
   "id": "23166813",
   "metadata": {},
   "outputs": [
    {
     "data": {
      "image/png": "[encoded data removed]",
      "text/plain": [
       "<Figure size 600x600 with 1 Axes>"
      ]
     },
     "metadata": {},
     "output_type": "display_data"
    }
   ],
   "source": [
    "plotWi((5120,1200), \"Best Warehouse (Path Based)\")"
   ]
  },
  {
   "cell_type": "markdown",
   "id": "02c51381",
   "metadata": {},
   "source": [
    "# 150 Customer 20 Warehouse 30 Days"
   ]
  },
  {
   "cell_type": "code",
   "execution_count": 107,
   "id": "6e0f99c2",
   "metadata": {},
   "outputs": [],
   "source": [
    "dfs = load_rec_data(\"_/\")"
   ]
  },
  {
   "cell_type": "code",
   "execution_count": 55,
   "id": "5ab9ef80",
   "metadata": {},
   "outputs": [
    {
     "data": {
      "text/plain": [
       "0.9997234521649107"
      ]
     },
     "execution_count": 55,
     "metadata": {},
     "output_type": "execute_result"
    }
   ],
   "source": [
    "_, p_value = anova_cal_19(dfs)\n",
    "p_value"
   ]
  },
  {
   "cell_type": "code",
   "execution_count": 56,
   "id": "a0f6e9b7",
   "metadata": {},
   "outputs": [
    {
     "name": "stdout",
     "output_type": "stream",
     "text": [
      "The p-value is not statistically significant. Fail to reject the null hypothesis.\n"
     ]
    }
   ],
   "source": [
    "stats_sig(p_value)"
   ]
  },
  {
   "cell_type": "code",
   "execution_count": 109,
   "id": "32c387d1",
   "metadata": {},
   "outputs": [
    {
     "data": {
      "text/html": [
       "<div>\n",
       "<style scoped>\n",
       "    .dataframe tbody tr th:only-of-type {\n",
       "        vertical-align: middle;\n",
       "    }\n",
       "\n",
       "    .dataframe tbody tr th {\n",
       "        vertical-align: top;\n",
       "    }\n",
       "\n",
       "    .dataframe thead th {\n",
       "        text-align: right;\n",
       "    }\n",
       "</style>\n",
       "<table border=\"1\" class=\"dataframe\">\n",
       "  <thead>\n",
       "    <tr style=\"text-align: right;\">\n",
       "      <th></th>\n",
       "      <th>working time</th>\n",
       "      <th>left</th>\n",
       "      <th>dist</th>\n",
       "      <th>working time hours</th>\n",
       "      <th>working time cost</th>\n",
       "      <th>dist km</th>\n",
       "      <th>dist cost</th>\n",
       "      <th>total cost</th>\n",
       "    </tr>\n",
       "  </thead>\n",
       "  <tbody>\n",
       "    <tr>\n",
       "      <th>0</th>\n",
       "      <td>152</td>\n",
       "      <td>0</td>\n",
       "      <td>29177</td>\n",
       "      <td>2.533333</td>\n",
       "      <td>76.0</td>\n",
       "      <td>29.177</td>\n",
       "      <td>2.33416</td>\n",
       "      <td>78.33416</td>\n",
       "    </tr>\n",
       "    <tr>\n",
       "      <th>1</th>\n",
       "      <td>195</td>\n",
       "      <td>0</td>\n",
       "      <td>35441</td>\n",
       "      <td>3.25</td>\n",
       "      <td>97.5</td>\n",
       "      <td>35.441</td>\n",
       "      <td>2.83528</td>\n",
       "      <td>100.33528</td>\n",
       "    </tr>\n",
       "    <tr>\n",
       "      <th>2</th>\n",
       "      <td>175</td>\n",
       "      <td>0</td>\n",
       "      <td>31079</td>\n",
       "      <td>2.916667</td>\n",
       "      <td>87.5</td>\n",
       "      <td>31.079</td>\n",
       "      <td>2.48632</td>\n",
       "      <td>89.98632</td>\n",
       "    </tr>\n",
       "    <tr>\n",
       "      <th>3</th>\n",
       "      <td>167</td>\n",
       "      <td>0</td>\n",
       "      <td>31509</td>\n",
       "      <td>2.783333</td>\n",
       "      <td>83.5</td>\n",
       "      <td>31.509</td>\n",
       "      <td>2.52072</td>\n",
       "      <td>86.02072</td>\n",
       "    </tr>\n",
       "    <tr>\n",
       "      <th>4</th>\n",
       "      <td>171</td>\n",
       "      <td>0</td>\n",
       "      <td>32396</td>\n",
       "      <td>2.85</td>\n",
       "      <td>85.5</td>\n",
       "      <td>32.396</td>\n",
       "      <td>2.59168</td>\n",
       "      <td>88.09168</td>\n",
       "    </tr>\n",
       "    <tr>\n",
       "      <th>5</th>\n",
       "      <td>191</td>\n",
       "      <td>0</td>\n",
       "      <td>34396</td>\n",
       "      <td>3.183333</td>\n",
       "      <td>95.5</td>\n",
       "      <td>34.396</td>\n",
       "      <td>2.75168</td>\n",
       "      <td>98.25168</td>\n",
       "    </tr>\n",
       "    <tr>\n",
       "      <th>6</th>\n",
       "      <td>181</td>\n",
       "      <td>0</td>\n",
       "      <td>34509</td>\n",
       "      <td>3.016667</td>\n",
       "      <td>90.5</td>\n",
       "      <td>34.509</td>\n",
       "      <td>2.76072</td>\n",
       "      <td>93.26072</td>\n",
       "    </tr>\n",
       "    <tr>\n",
       "      <th>7</th>\n",
       "      <td>210</td>\n",
       "      <td>0</td>\n",
       "      <td>37456</td>\n",
       "      <td>3.5</td>\n",
       "      <td>105.0</td>\n",
       "      <td>37.456</td>\n",
       "      <td>2.99648</td>\n",
       "      <td>107.99648</td>\n",
       "    </tr>\n",
       "    <tr>\n",
       "      <th>8</th>\n",
       "      <td>171</td>\n",
       "      <td>0</td>\n",
       "      <td>31057</td>\n",
       "      <td>2.85</td>\n",
       "      <td>85.5</td>\n",
       "      <td>31.057</td>\n",
       "      <td>2.48456</td>\n",
       "      <td>87.98456</td>\n",
       "    </tr>\n",
       "    <tr>\n",
       "      <th>9</th>\n",
       "      <td>196</td>\n",
       "      <td>0</td>\n",
       "      <td>35387</td>\n",
       "      <td>3.266667</td>\n",
       "      <td>98.0</td>\n",
       "      <td>35.387</td>\n",
       "      <td>2.83096</td>\n",
       "      <td>100.83096</td>\n",
       "    </tr>\n",
       "  </tbody>\n",
       "</table>\n",
       "</div>"
      ],
      "text/plain": [
       "  working time left   dist working time hours  working time cost dist km  \\\n",
       "0          152    0  29177           2.533333               76.0  29.177   \n",
       "1          195    0  35441               3.25               97.5  35.441   \n",
       "2          175    0  31079           2.916667               87.5  31.079   \n",
       "3          167    0  31509           2.783333               83.5  31.509   \n",
       "4          171    0  32396               2.85               85.5  32.396   \n",
       "5          191    0  34396           3.183333               95.5  34.396   \n",
       "6          181    0  34509           3.016667               90.5  34.509   \n",
       "7          210    0  37456                3.5              105.0  37.456   \n",
       "8          171    0  31057               2.85               85.5  31.057   \n",
       "9          196    0  35387           3.266667               98.0  35.387   \n",
       "\n",
       "  dist cost total cost  \n",
       "0   2.33416   78.33416  \n",
       "1   2.83528  100.33528  \n",
       "2   2.48632   89.98632  \n",
       "3   2.52072   86.02072  \n",
       "4   2.59168   88.09168  \n",
       "5   2.75168   98.25168  \n",
       "6   2.76072   93.26072  \n",
       "7   2.99648  107.99648  \n",
       "8   2.48456   87.98456  \n",
       "9   2.83096  100.83096  "
      ]
     },
     "execution_count": 109,
     "metadata": {},
     "output_type": "execute_result"
    }
   ],
   "source": [
    "dfs[18]"
   ]
  },
  {
   "cell_type": "code",
   "execution_count": 108,
   "id": "f4747bed",
   "metadata": {},
   "outputs": [
    {
     "name": "stdout",
     "output_type": "stream",
     "text": [
      "       DataFrame  Total Cost\n",
      "0    Warehouse_0  2757.47936\n",
      "1    Warehouse_1  2777.04552\n",
      "2    Warehouse_2  2722.47368\n",
      "3    Warehouse_3  2705.60192\n",
      "4    Warehouse_4  2705.63712\n",
      "5    Warehouse_5  2701.47552\n",
      "6    Warehouse_6  2735.57960\n",
      "7    Warehouse_7  2746.45088\n",
      "8    Warehouse_8  2724.38920\n",
      "9    Warehouse_9  2706.15224\n",
      "10  Warehouse_10  2732.53384\n",
      "11  Warehouse_11  2707.19880\n",
      "12  Warehouse_12  2725.91552\n",
      "13  Warehouse_13  2736.76024\n",
      "14  Warehouse_14  2730.38360\n",
      "15  Warehouse_15  2768.70016\n",
      "16  Warehouse_16  2725.16968\n",
      "17  Warehouse_17  2764.31472\n",
      "18  Warehouse_18   931.09256\n"
     ]
    },
    {
     "data": {
      "text/plain": [
       "931.09"
      ]
     },
     "execution_count": 108,
     "metadata": {},
     "output_type": "execute_result"
    }
   ],
   "source": [
    "cost = sum_of_cost(dfs)\n",
    "print(cost)\n",
    "cost['Total Cost'].min().round(2)"
   ]
  },
  {
   "cell_type": "code",
   "execution_count": null,
   "id": "ee425858",
   "metadata": {
    "scrolled": true
   },
   "outputs": [],
   "source": [
    "histWorkingTime(dfs[18])"
   ]
  },
  {
   "cell_type": "code",
   "execution_count": null,
   "id": "1af8df14",
   "metadata": {},
   "outputs": [],
   "source": [
    "plotWorkingTime(dfs[18])"
   ]
  },
  {
   "cell_type": "code",
   "execution_count": null,
   "id": "860c02a8",
   "metadata": {},
   "outputs": [],
   "source": [
    "plotTourLength(dfs[18])"
   ]
  },
  {
   "cell_type": "code",
   "execution_count": null,
   "id": "05d190ad",
   "metadata": {},
   "outputs": [],
   "source": [
    "plotLeftOver(dfs[18])"
   ]
  },
  {
   "cell_type": "code",
   "execution_count": 112,
   "id": "70db73a5",
   "metadata": {},
   "outputs": [],
   "source": [
    "dfp = dfs[18]"
   ]
  },
  {
   "cell_type": "code",
   "execution_count": 113,
   "id": "1c61b2c0",
   "metadata": {},
   "outputs": [
    {
     "data": {
      "text/html": [
       "<div>\n",
       "<style scoped>\n",
       "    .dataframe tbody tr th:only-of-type {\n",
       "        vertical-align: middle;\n",
       "    }\n",
       "\n",
       "    .dataframe tbody tr th {\n",
       "        vertical-align: top;\n",
       "    }\n",
       "\n",
       "    .dataframe thead th {\n",
       "        text-align: right;\n",
       "    }\n",
       "</style>\n",
       "<table border=\"1\" class=\"dataframe\">\n",
       "  <thead>\n",
       "    <tr style=\"text-align: right;\">\n",
       "      <th></th>\n",
       "      <th>working time</th>\n",
       "      <th>left</th>\n",
       "      <th>dist</th>\n",
       "      <th>working time hours</th>\n",
       "      <th>working time cost</th>\n",
       "      <th>dist km</th>\n",
       "      <th>dist cost</th>\n",
       "      <th>total cost</th>\n",
       "    </tr>\n",
       "  </thead>\n",
       "  <tbody>\n",
       "    <tr>\n",
       "      <th>0</th>\n",
       "      <td>152</td>\n",
       "      <td>0</td>\n",
       "      <td>29177</td>\n",
       "      <td>2.533333</td>\n",
       "      <td>76.0</td>\n",
       "      <td>29.177</td>\n",
       "      <td>2.33416</td>\n",
       "      <td>78.33416</td>\n",
       "    </tr>\n",
       "    <tr>\n",
       "      <th>1</th>\n",
       "      <td>195</td>\n",
       "      <td>0</td>\n",
       "      <td>35441</td>\n",
       "      <td>3.25</td>\n",
       "      <td>97.5</td>\n",
       "      <td>35.441</td>\n",
       "      <td>2.83528</td>\n",
       "      <td>100.33528</td>\n",
       "    </tr>\n",
       "    <tr>\n",
       "      <th>2</th>\n",
       "      <td>175</td>\n",
       "      <td>0</td>\n",
       "      <td>31079</td>\n",
       "      <td>2.916667</td>\n",
       "      <td>87.5</td>\n",
       "      <td>31.079</td>\n",
       "      <td>2.48632</td>\n",
       "      <td>89.98632</td>\n",
       "    </tr>\n",
       "    <tr>\n",
       "      <th>3</th>\n",
       "      <td>167</td>\n",
       "      <td>0</td>\n",
       "      <td>31509</td>\n",
       "      <td>2.783333</td>\n",
       "      <td>83.5</td>\n",
       "      <td>31.509</td>\n",
       "      <td>2.52072</td>\n",
       "      <td>86.02072</td>\n",
       "    </tr>\n",
       "    <tr>\n",
       "      <th>4</th>\n",
       "      <td>171</td>\n",
       "      <td>0</td>\n",
       "      <td>32396</td>\n",
       "      <td>2.85</td>\n",
       "      <td>85.5</td>\n",
       "      <td>32.396</td>\n",
       "      <td>2.59168</td>\n",
       "      <td>88.09168</td>\n",
       "    </tr>\n",
       "    <tr>\n",
       "      <th>5</th>\n",
       "      <td>191</td>\n",
       "      <td>0</td>\n",
       "      <td>34396</td>\n",
       "      <td>3.183333</td>\n",
       "      <td>95.5</td>\n",
       "      <td>34.396</td>\n",
       "      <td>2.75168</td>\n",
       "      <td>98.25168</td>\n",
       "    </tr>\n",
       "    <tr>\n",
       "      <th>6</th>\n",
       "      <td>181</td>\n",
       "      <td>0</td>\n",
       "      <td>34509</td>\n",
       "      <td>3.016667</td>\n",
       "      <td>90.5</td>\n",
       "      <td>34.509</td>\n",
       "      <td>2.76072</td>\n",
       "      <td>93.26072</td>\n",
       "    </tr>\n",
       "    <tr>\n",
       "      <th>7</th>\n",
       "      <td>210</td>\n",
       "      <td>0</td>\n",
       "      <td>37456</td>\n",
       "      <td>3.5</td>\n",
       "      <td>105.0</td>\n",
       "      <td>37.456</td>\n",
       "      <td>2.99648</td>\n",
       "      <td>107.99648</td>\n",
       "    </tr>\n",
       "    <tr>\n",
       "      <th>8</th>\n",
       "      <td>171</td>\n",
       "      <td>0</td>\n",
       "      <td>31057</td>\n",
       "      <td>2.85</td>\n",
       "      <td>85.5</td>\n",
       "      <td>31.057</td>\n",
       "      <td>2.48456</td>\n",
       "      <td>87.98456</td>\n",
       "    </tr>\n",
       "    <tr>\n",
       "      <th>9</th>\n",
       "      <td>196</td>\n",
       "      <td>0</td>\n",
       "      <td>35387</td>\n",
       "      <td>3.266667</td>\n",
       "      <td>98.0</td>\n",
       "      <td>35.387</td>\n",
       "      <td>2.83096</td>\n",
       "      <td>100.83096</td>\n",
       "    </tr>\n",
       "  </tbody>\n",
       "</table>\n",
       "</div>"
      ],
      "text/plain": [
       "  working time left   dist working time hours  working time cost dist km  \\\n",
       "0          152    0  29177           2.533333               76.0  29.177   \n",
       "1          195    0  35441               3.25               97.5  35.441   \n",
       "2          175    0  31079           2.916667               87.5  31.079   \n",
       "3          167    0  31509           2.783333               83.5  31.509   \n",
       "4          171    0  32396               2.85               85.5  32.396   \n",
       "5          191    0  34396           3.183333               95.5  34.396   \n",
       "6          181    0  34509           3.016667               90.5  34.509   \n",
       "7          210    0  37456                3.5              105.0  37.456   \n",
       "8          171    0  31057               2.85               85.5  31.057   \n",
       "9          196    0  35387           3.266667               98.0  35.387   \n",
       "\n",
       "  dist cost total cost  \n",
       "0   2.33416   78.33416  \n",
       "1   2.83528  100.33528  \n",
       "2   2.48632   89.98632  \n",
       "3   2.52072   86.02072  \n",
       "4   2.59168   88.09168  \n",
       "5   2.75168   98.25168  \n",
       "6   2.76072   93.26072  \n",
       "7   2.99648  107.99648  \n",
       "8   2.48456   87.98456  \n",
       "9   2.83096  100.83096  "
      ]
     },
     "execution_count": 113,
     "metadata": {},
     "output_type": "execute_result"
    }
   ],
   "source": [
    "dfp"
   ]
  },
  {
   "cell_type": "code",
   "execution_count": 111,
   "id": "d110fb29",
   "metadata": {},
   "outputs": [],
   "source": [
    "dfs[18].to_excel(\"150_20_30.xlsx\")"
   ]
  },
  {
   "cell_type": "markdown",
   "id": "4773abff",
   "metadata": {},
   "source": [
    "# Path Based"
   ]
  },
  {
   "cell_type": "code",
   "execution_count": 100,
   "id": "b02eed94",
   "metadata": {},
   "outputs": [
    {
     "data": {
      "image/png": "[encoded data removed]",
      "text/plain": [
       "<Figure size 600x600 with 1 Axes>"
      ]
     },
     "metadata": {},
     "output_type": "display_data"
    }
   ],
   "source": [
    "plotWi((1760,1760), \"Best Warehouse (Cost Based)\")"
   ]
  },
  {
   "cell_type": "markdown",
   "id": "1b7fd6a2",
   "metadata": {},
   "source": [
    "# Cost Based"
   ]
  },
  {
   "cell_type": "code",
   "execution_count": 101,
   "id": "f0978d2c",
   "metadata": {},
   "outputs": [
    {
     "data": {
      "image/png": "[encoded data removed]",
      "text/plain": [
       "<Figure size 600x600 with 1 Axes>"
      ]
     },
     "metadata": {},
     "output_type": "display_data"
    }
   ],
   "source": [
    "plotWi((1760,4560), \"Best Warehouse (Path Based)\")"
   ]
  },
  {
   "cell_type": "code",
   "execution_count": null,
   "id": "eb715f70",
   "metadata": {},
   "outputs": [],
   "source": []
  },
  {
   "cell_type": "code",
   "execution_count": null,
   "id": "8d81071f",
   "metadata": {},
   "outputs": [],
   "source": []
  }
 ],
 "metadata": {
  "kernelspec": {
   "display_name": "Python 3 (ipykernel)",
   "language": "python",
   "name": "python3"
  },
  "language_info": {
   "codemirror_mode": {
    "name": "ipython",
    "version": 3
   },
   "file_extension": ".py",
   "mimetype": "text/x-python",
   "name": "python",
   "nbconvert_exporter": "python",
   "pygments_lexer": "ipython3",
   "version": "3.10.6"
  },
  "toc": {
   "base_numbering": 1,
   "nav_menu": {
    "height": "173.25px",
    "width": "233px"
   },
   "number_sections": true,
   "sideBar": true,
   "skip_h1_title": false,
   "title_cell": "Table of Contents",
   "title_sidebar": "Contents",
   "toc_cell": true,
   "toc_position": {},
   "toc_section_display": true,
   "toc_window_display": false
  }
 },
 "nbformat": 4,
 "nbformat_minor": 5
}
